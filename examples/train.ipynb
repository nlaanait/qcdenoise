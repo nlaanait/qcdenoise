{
 "cells": [
  {
   "cell_type": "code",
   "execution_count": 1,
   "metadata": {},
   "outputs": [],
   "source": [
    "import os\n",
    "import numpy as np\n",
    "import matplotlib.pyplot as plt\n",
    "import torch\n",
    "import torch.nn as nn\n",
    "import torch.optim as optim\n",
    "from torch.utils.data import DataLoader\n",
    "import matplotlib.pyplot as plt\n",
    "# qcdenoise imports\n",
    "from qcdenoise import DenseModel\n",
    "from qcdenoise.io_utils import QCIRCDataSetNumpy\n",
    "from qcdenoise.ml_utils import train, test"
   ]
  },
  {
   "cell_type": "markdown",
   "metadata": {},
   "source": [
    "### 1. GHZ"
   ]
  },
  {
   "cell_type": "markdown",
   "metadata": {},
   "source": [
    "#### Load Data"
   ]
  },
  {
   "cell_type": "code",
   "execution_count": 26,
   "metadata": {},
   "outputs": [
    {
     "name": "stdout",
     "output_type": "stream",
     "text": [
      "Total # of samples in train set: 32000, test set:8000\n"
     ]
    }
   ],
   "source": [
    "GHZ_traindata = QCIRCDataSetNumpy('GHZ_test_train.npy')\n",
    "GHZ_testdata = QCIRCDataSetNumpy('GHZ_test_test.npy')\n",
    "print('Total # of samples in train set: {}, test set:{}'.format(len(GHZ_traindata), len(GHZ_testdata)))\n",
    "trainloader = DataLoader(GHZ_traindata, batch_size=32, shuffle=True, pin_memory=True)\n",
    "testloader = DataLoader(GHZ_testdata, batch_size=32, shuffle=True, pin_memory=True)"
   ]
  },
  {
   "cell_type": "markdown",
   "metadata": {},
   "source": [
    "#### initiate model"
   ]
  },
  {
   "cell_type": "code",
   "execution_count": 27,
   "metadata": {},
   "outputs": [
    {
     "name": "stdout",
     "output_type": "stream",
     "text": [
      "DenseModel(\n",
      "  (fc1): Linear(in_features=256, out_features=512, bias=True)\n",
      "  (fc2): Linear(in_features=512, out_features=512, bias=True)\n",
      "  (fc3): Linear(in_features=512, out_features=512, bias=True)\n",
      "  (fc4): Linear(in_features=512, out_features=256, bias=True)\n",
      "  (softmax): Softmax(dim=1)\n",
      ")\n"
     ]
    }
   ],
   "source": [
    "inputs, targets = GHZ_testdata[0]['input'], GHZ_testdata[0]['target']\n",
    "inputs_dim = inputs.shape[0]\n",
    "targets_dim = targets.shape[0]\n",
    "ghz_net = DenseModel(inputs_dim=inputs_dim, targets_dim=targets_dim)\n",
    "print(ghz_net)"
   ]
  },
  {
   "cell_type": "markdown",
   "metadata": {},
   "source": [
    "### Train"
   ]
  },
  {
   "cell_type": "code",
   "execution_count": 28,
   "metadata": {},
   "outputs": [
    {
     "name": "stdout",
     "output_type": "stream",
     "text": [
      "Epoch=1, Batch=  500, Loss= 2.225\n",
      "Epoch=1, Batch= 1000, Loss= 1.213\n",
      "Epoch=2, Batch=  500, Loss= 1.195\n",
      "Epoch=2, Batch= 1000, Loss= 1.190\n",
      "Epoch=3, Batch=  500, Loss= 1.171\n",
      "Epoch=3, Batch= 1000, Loss= 1.187\n",
      "Epoch=4, Batch=  500, Loss= 1.175\n",
      "Epoch=4, Batch= 1000, Loss= 1.168\n",
      "Epoch=5, Batch=  500, Loss= 1.160\n",
      "Epoch=5, Batch= 1000, Loss= 1.147\n"
     ]
    }
   ],
   "source": [
    "mse = torch.nn.MSELoss(reduction='sum')\n",
    "ghz_net = train(ghz_net, trainloader, mse, lr=5e-4, num_epochs=5)"
   ]
  },
  {
   "cell_type": "markdown",
   "metadata": {},
   "source": [
    "### Test"
   ]
  },
  {
   "cell_type": "code",
   "execution_count": 29,
   "metadata": {},
   "outputs": [
    {
     "name": "stdout",
     "output_type": "stream",
     "text": [
      "Batches=250, Average Loss= 1.127\n"
     ]
    }
   ],
   "source": [
    "_ = test(ghz_net, testloader, mse)"
   ]
  },
  {
   "cell_type": "code",
   "execution_count": 30,
   "metadata": {},
   "outputs": [
    {
     "name": "stdout",
     "output_type": "stream",
     "text": [
      "sample=1182\n"
     ]
    },
    {
     "data": {
      "text/plain": [
       "<matplotlib.legend.Legend at 0x7fce6eeda240>"
      ]
     },
     "execution_count": 30,
     "metadata": {},
     "output_type": "execute_result"
    },
    {
     "data": {
      "image/png": "[encoded data removed]",
      "text/plain": [
       "<Figure size 432x288 with 1 Axes>"
      ]
     },
     "metadata": {
      "needs_background": "light"
     },
     "output_type": "display_data"
    }
   ],
   "source": [
    "idx = np.random.randint(0, len(GHZ_testdata)-1)\n",
    "print('sample=%d'%idx)\n",
    "inputs, targets = GHZ_testdata[idx]['input'], GHZ_testdata[idx]['target']\n",
    "with torch.no_grad():\n",
    "    net = ghz_net.to('cpu')\n",
    "    inputs = torch.unsqueeze(inputs,0)\n",
    "    outputs = net(inputs)\n",
    "fig,ax = plt.subplots(1,1)\n",
    "ax.plot(np.squeeze(outputs.numpy()), label='Ouput', marker='o')\n",
    "ax.plot(np.squeeze(targets.numpy()), label='Target', marker='x')\n",
    "ax.set_title('DenseModel: trained on GHZ, testing on GHZ')\n",
    "ax.legend()"
   ]
  },
  {
   "cell_type": "markdown",
   "metadata": {},
   "source": [
    "### 1. UCCSD"
   ]
  },
  {
   "cell_type": "markdown",
   "metadata": {},
   "source": [
    "#### Load Data"
   ]
  },
  {
   "cell_type": "code",
   "execution_count": 31,
   "metadata": {},
   "outputs": [
    {
     "name": "stdout",
     "output_type": "stream",
     "text": [
      "Total # of samples in train set: 32000, test set:8000\n"
     ]
    }
   ],
   "source": [
    "UCCSD_traindata = QCIRCDataSetNumpy('UCCSD_test_train.npy')\n",
    "UCCSD_testdata = QCIRCDataSetNumpy('UCCSD_test_test.npy')\n",
    "print('Total # of samples in train set: {}, test set:{}'.format(len(UCCSD_traindata), len(UCCSD_testdata)))\n",
    "trainloader = DataLoader(UCCSD_traindata, batch_size=32, shuffle=True, pin_memory=True)\n",
    "testloader = DataLoader(UCCSD_testdata, batch_size=32, shuffle=True, pin_memory=True)"
   ]
  },
  {
   "cell_type": "markdown",
   "metadata": {},
   "source": [
    "#### initiate model"
   ]
  },
  {
   "cell_type": "code",
   "execution_count": 32,
   "metadata": {},
   "outputs": [
    {
     "name": "stdout",
     "output_type": "stream",
     "text": [
      "DenseModel(\n",
      "  (fc1): Linear(in_features=256, out_features=512, bias=True)\n",
      "  (fc2): Linear(in_features=512, out_features=512, bias=True)\n",
      "  (fc3): Linear(in_features=512, out_features=512, bias=True)\n",
      "  (fc4): Linear(in_features=512, out_features=256, bias=True)\n",
      "  (softmax): Softmax(dim=1)\n",
      ")\n"
     ]
    }
   ],
   "source": [
    "inputs, targets = UCCSD_testdata[0]['input'], UCCSD_testdata[0]['target']\n",
    "inputs_dim = inputs.shape[0]\n",
    "targets_dim = targets.shape[0]\n",
    "uccsd_net = DenseModel(inputs_dim=inputs_dim, targets_dim=targets_dim)\n",
    "print(uccsd_net)"
   ]
  },
  {
   "cell_type": "markdown",
   "metadata": {},
   "source": [
    "### Train"
   ]
  },
  {
   "cell_type": "code",
   "execution_count": 33,
   "metadata": {},
   "outputs": [
    {
     "name": "stdout",
     "output_type": "stream",
     "text": [
      "Epoch=1, Batch=  500, Loss= 0.966\n",
      "Epoch=1, Batch= 1000, Loss= 0.303\n",
      "Epoch=2, Batch=  500, Loss= 0.172\n",
      "Epoch=2, Batch= 1000, Loss= 0.124\n",
      "Epoch=3, Batch=  500, Loss= 0.100\n",
      "Epoch=3, Batch= 1000, Loss= 0.086\n",
      "Epoch=4, Batch=  500, Loss= 0.072\n",
      "Epoch=4, Batch= 1000, Loss= 0.067\n",
      "Epoch=5, Batch=  500, Loss= 0.056\n",
      "Epoch=5, Batch= 1000, Loss= 0.051\n"
     ]
    }
   ],
   "source": [
    "mse = torch.nn.MSELoss(reduction='sum')\n",
    "uccsd_net = train(uccsd_net, trainloader, mse, lr=5e-4, num_epochs=5)"
   ]
  },
  {
   "cell_type": "markdown",
   "metadata": {},
   "source": [
    "### Test"
   ]
  },
  {
   "cell_type": "code",
   "execution_count": 35,
   "metadata": {},
   "outputs": [
    {
     "name": "stdout",
     "output_type": "stream",
     "text": [
      "Batches=250, Average Loss= 0.045\n"
     ]
    }
   ],
   "source": [
    "_ = test(uccsd_net, testloader, mse)"
   ]
  },
  {
   "cell_type": "code",
   "execution_count": 50,
   "metadata": {},
   "outputs": [
    {
     "name": "stdout",
     "output_type": "stream",
     "text": [
      "sample=5682\n"
     ]
    },
    {
     "data": {
      "text/plain": [
       "<matplotlib.legend.Legend at 0x7fce6c99ebe0>"
      ]
     },
     "execution_count": 50,
     "metadata": {},
     "output_type": "execute_result"
    },
    {
     "data": {
      "image/png": "[encoded data removed]",
      "text/plain": [
       "<Figure size 432x288 with 1 Axes>"
      ]
     },
     "metadata": {
      "needs_background": "light"
     },
     "output_type": "display_data"
    }
   ],
   "source": [
    "idx = np.random.randint(0, len(UCCSD_testdata)-1)\n",
    "print('sample=%d'%idx)\n",
    "inputs, targets = UCCSD_testdata[idx]['input'], UCCSD_testdata[idx]['target']\n",
    "with torch.no_grad():\n",
    "    net = uccsd_net.to('cpu')\n",
    "    inputs = torch.unsqueeze(inputs,0)\n",
    "    outputs = net(inputs)\n",
    "fig,ax = plt.subplots(1,1)\n",
    "ax.plot(np.squeeze(outputs.numpy()), label='Ouput', marker='o')\n",
    "ax.plot(np.squeeze(targets.numpy()), label='Target', marker='x')\n",
    "ax.set_title('DenseModel: trained on UCCSD, testing on UCCSD')\n",
    "ax.legend()"
   ]
  }
 ],
 "metadata": {
  "kernelspec": {
   "display_name": "Python 3",
   "language": "python",
   "name": "python3"
  },
  "language_info": {
   "codemirror_mode": {
    "name": "ipython",
    "version": 3
   },
   "file_extension": ".py",
   "mimetype": "text/x-python",
   "name": "python",
   "nbconvert_exporter": "python",
   "pygments_lexer": "ipython3",
   "version": "3.7.3"
  }
 },
 "nbformat": 4,
 "nbformat_minor": 4
}
