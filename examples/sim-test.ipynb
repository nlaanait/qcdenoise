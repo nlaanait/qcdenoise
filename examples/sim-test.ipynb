{
 "metadata": {
  "language_info": {
   "codemirror_mode": {
    "name": "ipython",
    "version": 3
   },
   "file_extension": ".py",
   "mimetype": "text/x-python",
   "name": "python",
   "nbconvert_exporter": "python",
   "pygments_lexer": "ipython3",
   "version": "3.7.10"
  },
  "orig_nbformat": 2,
  "kernelspec": {
   "name": "python3710jvsc74a57bd047d517df254fbe59b5c04b69f23871c524fea7fc7dc51e349dcd158d9476f98d",
   "display_name": "Python 3.7.10 64-bit ('pytorch_latest_p37': conda)"
  }
 },
 "nbformat": 4,
 "nbformat_minor": 2,
 "cells": [
  {
   "cell_type": "code",
   "execution_count": 1,
   "metadata": {},
   "outputs": [],
   "source": [
    "import numpy as np\n",
    "import qcdenoise as qcd\n",
    "import os, json\n",
    "from datetime import datetime\n",
    "os.environ[\"OMP_NUM_THREADS\"]='1'"
   ]
  },
  {
   "cell_type": "code",
   "execution_count": 2,
   "metadata": {},
   "outputs": [],
   "source": [
    "\n",
    "timestamp = datetime.now().strftime('%m%d%y')\n",
    "simulate=True\n",
    "data_dir = '/home/ubuntu/data'\n",
    "sampling_dict = {}\n",
    "file_name = 'run_1'\n",
    "train_rounds = 1\n",
    "test_rounds = 1\n",
    "# execute a q_circuit n times per process\n",
    "n_qubits = 7\n",
    "n_samples = 10\n",
    "n_procs = 1 # number of cores/processes to use"
   ]
  },
  {
   "cell_type": "code",
   "execution_count": 3,
   "metadata": {},
   "outputs": [
    {
     "output_type": "stream",
     "name": "stdout",
     "text": [
      "Test Data- Number of graph examples per # of edges in graph:  [1, 1, 2, 1, 1, 2, 2, 1, 1, 1]\nTrain Data- Number of graph examples per # of edges in graph:  [1, 1, 2, 2, 6, 14, 2, 3, 7, 1]\nNumber of Graphs in Train Database:  39\nNumber of Graphs in Test Database:  13\n"
     ]
    }
   ],
   "source": [
    "G_data = qcd.GraphData()\n",
    "data_train, data_test = G_data.partition(ratio=0.1)\n",
    "data_train, data_test = data_train.data, data_test.data"
   ]
  },
  {
   "cell_type": "code",
   "execution_count": 4,
   "metadata": {},
   "outputs": [
    {
     "output_type": "stream",
     "name": "stdout",
     "text": [
      "PID: 96525, Sample #: 0\ncalling build graph\n"
     ]
    },
    {
     "output_type": "error",
     "ename": "CircuitError",
     "evalue": "'The amount of qubit(0)/clbit(0) arguments does not match the gate expectation (7).'",
     "traceback": [
      "\u001b[0;31m---------------------------------------------------------------------------\u001b[0m",
      "\u001b[0;31mCircuitError\u001b[0m                              Traceback (most recent call last)",
      "\u001b[0;32m<ipython-input-4-ac89014223fd>\u001b[0m in \u001b[0;36m<module>\u001b[0;34m\u001b[0m\n\u001b[1;32m     17\u001b[0m \u001b[0msampling_dict\u001b[0m\u001b[0;34m[\u001b[0m\u001b[0;34m\"circuit_builder_kwargs\"\u001b[0m\u001b[0;34m]\u001b[0m \u001b[0;34m=\u001b[0m \u001b[0;34m{\u001b[0m\u001b[0;34m\"graph_data\"\u001b[0m\u001b[0;34m:\u001b[0m\u001b[0mdata_train\u001b[0m\u001b[0;34m}\u001b[0m\u001b[0;34m\u001b[0m\u001b[0;34m\u001b[0m\u001b[0m\n\u001b[1;32m     18\u001b[0m \u001b[0msampling_dict\u001b[0m\u001b[0;34m[\u001b[0m\u001b[0;34m\"adjT_dim\"\u001b[0m\u001b[0;34m]\u001b[0m \u001b[0;34m=\u001b[0m \u001b[0;34m(\u001b[0m\u001b[0;36m16\u001b[0m\u001b[0;34m,\u001b[0m \u001b[0;36m32\u001b[0m\u001b[0;34m,\u001b[0m \u001b[0;36m32\u001b[0m\u001b[0;34m)\u001b[0m\u001b[0;34m\u001b[0m\u001b[0;34m\u001b[0m\u001b[0m\n\u001b[0;32m---> 19\u001b[0;31m \u001b[0mqcd\u001b[0m\u001b[0;34m.\u001b[0m\u001b[0msample_circuit_prob_adjT_ew\u001b[0m\u001b[0;34m(\u001b[0m\u001b[0msampling_dict\u001b[0m\u001b[0;34m)\u001b[0m\u001b[0;34m\u001b[0m\u001b[0;34m\u001b[0m\u001b[0m\n\u001b[0m",
      "\u001b[0;32m~/qcdenoise/qcdenoise/circuit_sampling_utils.py\u001b[0m in \u001b[0;36msample_circuit_prob_adjT_ew\u001b[0;34m(args)\u001b[0m\n\u001b[1;32m     72\u001b[0m         \u001b[0mall_adj_T\u001b[0m\u001b[0;34m[\u001b[0m\u001b[0mi\u001b[0m\u001b[0;34m]\u001b[0m \u001b[0;34m=\u001b[0m \u001b[0madj_tensor\u001b[0m\u001b[0;34m\u001b[0m\u001b[0;34m\u001b[0m\u001b[0m\n\u001b[1;32m     73\u001b[0m         sampler.circ_builder.get_stabilizer_measurements(\n\u001b[0;32m---> 74\u001b[0;31m             sampler.noise_model)\n\u001b[0m\u001b[1;32m     75\u001b[0m         \u001b[0mprint\u001b[0m\u001b[0;34m(\u001b[0m\u001b[0msampler\u001b[0m\u001b[0;34m.\u001b[0m\u001b[0mcirc_builder\u001b[0m\u001b[0;34m.\u001b[0m\u001b[0mstabilizer_measurements\u001b[0m\u001b[0;34m)\u001b[0m\u001b[0;34m\u001b[0m\u001b[0;34m\u001b[0m\u001b[0m\n\u001b[1;32m     76\u001b[0m     \u001b[0;32mreturn\u001b[0m \u001b[0;34m{\u001b[0m\u001b[0;34m'prob_vec'\u001b[0m\u001b[0;34m:\u001b[0m \u001b[0mall_prob_vec\u001b[0m\u001b[0;34m,\u001b[0m \u001b[0;34m'adj_T'\u001b[0m\u001b[0;34m:\u001b[0m \u001b[0mall_adj_T\u001b[0m\u001b[0;34m}\u001b[0m\u001b[0;34m\u001b[0m\u001b[0;34m\u001b[0m\u001b[0m\n",
      "\u001b[0;32m~/qcdenoise/qcdenoise/circuit_constructors.py\u001b[0m in \u001b[0;36mget_stabilizer_measurements\u001b[0;34m(self, noise_model)\u001b[0m\n\u001b[1;32m    211\u001b[0m             \u001b[0mself\u001b[0m\u001b[0;34m.\u001b[0m\u001b[0mbuild_stabilizer_circuits\u001b[0m\u001b[0;34m(\u001b[0m\u001b[0;34m)\u001b[0m\u001b[0;34m\u001b[0m\u001b[0;34m\u001b[0m\u001b[0m\n\u001b[1;32m    212\u001b[0m         self.stab_circuits = [self.cached_circuit.append(circ.to_gate(label=\"stab\"))\n\u001b[0;32m--> 213\u001b[0;31m                               for circ in self.stab_circuits]\n\u001b[0m\u001b[1;32m    214\u001b[0m         \u001b[0;32mfor\u001b[0m \u001b[0mcirc\u001b[0m \u001b[0;32min\u001b[0m \u001b[0mself\u001b[0m\u001b[0;34m.\u001b[0m\u001b[0mstab_circuits\u001b[0m\u001b[0;34m:\u001b[0m\u001b[0;34m\u001b[0m\u001b[0;34m\u001b[0m\u001b[0m\n\u001b[1;32m    215\u001b[0m             \u001b[0mcirc\u001b[0m\u001b[0;34m.\u001b[0m\u001b[0mmeasure_all\u001b[0m\u001b[0;34m(\u001b[0m\u001b[0;34m)\u001b[0m\u001b[0;34m\u001b[0m\u001b[0;34m\u001b[0m\u001b[0m\n",
      "\u001b[0;32m~/qcdenoise/qcdenoise/circuit_constructors.py\u001b[0m in \u001b[0;36m<listcomp>\u001b[0;34m(.0)\u001b[0m\n\u001b[1;32m    211\u001b[0m             \u001b[0mself\u001b[0m\u001b[0;34m.\u001b[0m\u001b[0mbuild_stabilizer_circuits\u001b[0m\u001b[0;34m(\u001b[0m\u001b[0;34m)\u001b[0m\u001b[0;34m\u001b[0m\u001b[0;34m\u001b[0m\u001b[0m\n\u001b[1;32m    212\u001b[0m         self.stab_circuits = [self.cached_circuit.append(circ.to_gate(label=\"stab\"))\n\u001b[0;32m--> 213\u001b[0;31m                               for circ in self.stab_circuits]\n\u001b[0m\u001b[1;32m    214\u001b[0m         \u001b[0;32mfor\u001b[0m \u001b[0mcirc\u001b[0m \u001b[0;32min\u001b[0m \u001b[0mself\u001b[0m\u001b[0;34m.\u001b[0m\u001b[0mstab_circuits\u001b[0m\u001b[0;34m:\u001b[0m\u001b[0;34m\u001b[0m\u001b[0;34m\u001b[0m\u001b[0m\n\u001b[1;32m    215\u001b[0m             \u001b[0mcirc\u001b[0m\u001b[0;34m.\u001b[0m\u001b[0mmeasure_all\u001b[0m\u001b[0;34m(\u001b[0m\u001b[0;34m)\u001b[0m\u001b[0;34m\u001b[0m\u001b[0;34m\u001b[0m\u001b[0m\n",
      "\u001b[0;32m~/anaconda3/envs/pytorch_latest_p37/lib/python3.7/site-packages/qiskit/circuit/quantumcircuit.py\u001b[0m in \u001b[0;36mappend\u001b[0;34m(self, instruction, qargs, cargs)\u001b[0m\n\u001b[1;32m   1010\u001b[0m \u001b[0;34m\u001b[0m\u001b[0m\n\u001b[1;32m   1011\u001b[0m         \u001b[0minstructions\u001b[0m \u001b[0;34m=\u001b[0m \u001b[0mInstructionSet\u001b[0m\u001b[0;34m(\u001b[0m\u001b[0;34m)\u001b[0m\u001b[0;34m\u001b[0m\u001b[0;34m\u001b[0m\u001b[0m\n\u001b[0;32m-> 1012\u001b[0;31m         \u001b[0;32mfor\u001b[0m \u001b[0;34m(\u001b[0m\u001b[0mqarg\u001b[0m\u001b[0;34m,\u001b[0m \u001b[0mcarg\u001b[0m\u001b[0;34m)\u001b[0m \u001b[0;32min\u001b[0m \u001b[0minstruction\u001b[0m\u001b[0;34m.\u001b[0m\u001b[0mbroadcast_arguments\u001b[0m\u001b[0;34m(\u001b[0m\u001b[0mexpanded_qargs\u001b[0m\u001b[0;34m,\u001b[0m \u001b[0mexpanded_cargs\u001b[0m\u001b[0;34m)\u001b[0m\u001b[0;34m:\u001b[0m\u001b[0;34m\u001b[0m\u001b[0;34m\u001b[0m\u001b[0m\n\u001b[0m\u001b[1;32m   1013\u001b[0m             \u001b[0minstructions\u001b[0m\u001b[0;34m.\u001b[0m\u001b[0madd\u001b[0m\u001b[0;34m(\u001b[0m\u001b[0mself\u001b[0m\u001b[0;34m.\u001b[0m\u001b[0m_append\u001b[0m\u001b[0;34m(\u001b[0m\u001b[0minstruction\u001b[0m\u001b[0;34m,\u001b[0m \u001b[0mqarg\u001b[0m\u001b[0;34m,\u001b[0m \u001b[0mcarg\u001b[0m\u001b[0;34m)\u001b[0m\u001b[0;34m,\u001b[0m \u001b[0mqarg\u001b[0m\u001b[0;34m,\u001b[0m \u001b[0mcarg\u001b[0m\u001b[0;34m)\u001b[0m\u001b[0;34m\u001b[0m\u001b[0;34m\u001b[0m\u001b[0m\n\u001b[1;32m   1014\u001b[0m         \u001b[0;32mreturn\u001b[0m \u001b[0minstructions\u001b[0m\u001b[0;34m\u001b[0m\u001b[0;34m\u001b[0m\u001b[0m\n",
      "\u001b[0;32m~/anaconda3/envs/pytorch_latest_p37/lib/python3.7/site-packages/qiskit/circuit/gate.py\u001b[0m in \u001b[0;36mbroadcast_arguments\u001b[0;34m(self, qargs, cargs)\u001b[0m\n\u001b[1;32m    221\u001b[0m         \u001b[0;32mif\u001b[0m \u001b[0mlen\u001b[0m\u001b[0;34m(\u001b[0m\u001b[0mqargs\u001b[0m\u001b[0;34m)\u001b[0m \u001b[0;34m!=\u001b[0m \u001b[0mself\u001b[0m\u001b[0;34m.\u001b[0m\u001b[0mnum_qubits\u001b[0m \u001b[0;32mor\u001b[0m \u001b[0mcargs\u001b[0m\u001b[0;34m:\u001b[0m\u001b[0;34m\u001b[0m\u001b[0;34m\u001b[0m\u001b[0m\n\u001b[1;32m    222\u001b[0m             raise CircuitError(\n\u001b[0;32m--> 223\u001b[0;31m                 \u001b[0;34mf'The amount of qubit({len(qargs)})/clbit({len(cargs)}) arguments does'\u001b[0m\u001b[0;34m\u001b[0m\u001b[0;34m\u001b[0m\u001b[0m\n\u001b[0m\u001b[1;32m    224\u001b[0m                 f' not match the gate expectation ({self.num_qubits}).')\n\u001b[1;32m    225\u001b[0m \u001b[0;34m\u001b[0m\u001b[0m\n",
      "\u001b[0;31mCircuitError\u001b[0m: 'The amount of qubit(0)/clbit(0) arguments does not match the gate expectation (7).'"
     ]
    }
   ],
   "source": [
    "# tasks=[(sampling_dict) for _ in range(n_procs)]\n",
    "# jobs=pool.map(sample_circuit_prob_adjT_ew, tasks)\n",
    "sampling_dict[\"graph_data_test\"] = data_test\n",
    "sampling_dict[\"graph_data_train\"] = data_train\n",
    "sampling_dict[\"n_samples\"] = n_samples \n",
    "sampling_dict[\"n_qubits\"] = n_qubits\n",
    "sampling_dict[\"noise_specs\"] = {\"qubit\":{ \n",
    "                                \"readout_error\":0.25, \"prob_meas0_prep1\": 0.1, \n",
    "                                \"prob_meas1_prep0\": 0.1},\n",
    "                      \"cx\": {\"gate_error\": 0.25}, \n",
    "                      \"id\": {\"gate_error\": 0.25},\n",
    "                      \"u1\": {\"gate_error\": 0.25},\n",
    "                      \"u2\": {\"gate_error\": 0.25},\n",
    "                      \"u3\": {\"gate_error\": 0.25}}\n",
    "sampling_dict[\"circuit_sampler\"] = qcd.DeviceNoiseSampler\n",
    "sampling_dict[\"circuit_builder\"] = qcd.GraphCircuit\n",
    "sampling_dict[\"circuit_builder_kwargs\"] = {\"graph_data\":data_train}\n",
    "sampling_dict[\"adjT_dim\"] = (16, 32, 32)\n",
    "qcd.sample_circuit_prob_adjT_ew(sampling_dict)"
   ]
  },
  {
   "cell_type": "code",
   "execution_count": null,
   "metadata": {},
   "outputs": [],
   "source": []
  },
  {
   "cell_type": "code",
   "execution_count": 4,
   "metadata": {},
   "outputs": [
    {
     "output_type": "stream",
     "name": "stdout",
     "text": [
      "###### Sampling train Data ######\n",
      "Round= 0\n",
      "PID: 29640, Sample #: 0\n",
      "calling build graph\n"
     ]
    },
    {
     "output_type": "error",
     "ename": "AssertionError",
     "evalue": "daemonic processes are not allowed to have children",
     "traceback": [
      "\u001b[0;31m---------------------------------------------------------------------------\u001b[0m",
      "\u001b[0;31mRemoteTraceback\u001b[0m                           Traceback (most recent call last)",
      "\u001b[0;31mRemoteTraceback\u001b[0m: \n\"\"\"\nTraceback (most recent call last):\n  File \"/home/ubuntu/anaconda3/envs/pytorch_latest_p37/lib/python3.7/multiprocessing/pool.py\", line 121, in worker\n    result = (True, func(*args, **kwds))\n  File \"/home/ubuntu/anaconda3/envs/pytorch_latest_p37/lib/python3.7/multiprocessing/pool.py\", line 44, in mapstar\n    return list(map(*args))\n  File \"/home/ubuntu/anaconda3/envs/pytorch_latest_p37/lib/python3.7/site-packages/qcdenoise/circuit_sampling_utils.py\", line 73, in sample_circuit_prob_adjT_ew\n    sampler.circ_builder.get_stabilizer_measurements()\n  File \"/home/ubuntu/anaconda3/envs/pytorch_latest_p37/lib/python3.7/site-packages/qcdenoise/circuit_constructors.py\", line 215, in get_stabilizer_measurements\n    shots=self.n_shots, optimization_level=self.opt_level)\n  File \"/home/ubuntu/anaconda3/envs/pytorch_latest_p37/lib/python3.7/site-packages/qiskit/execute_function.py\", line 259, in execute\n    backend=backend)\n  File \"/home/ubuntu/anaconda3/envs/pytorch_latest_p37/lib/python3.7/site-packages/qiskit/compiler/transpiler.py\", line 245, in transpile\n    circuits = parallel_map(_transpile_circuit, list(zip(circuits, transpile_args)))\n  File \"/home/ubuntu/anaconda3/envs/pytorch_latest_p37/lib/python3.7/site-packages/qiskit/tools/parallel.py\", line 157, in parallel_map\n    raise error\n  File \"/home/ubuntu/anaconda3/envs/pytorch_latest_p37/lib/python3.7/site-packages/qiskit/tools/parallel.py\", line 145, in parallel_map\n    future = executor.map(_task_wrapper, param)\n  File \"/home/ubuntu/anaconda3/envs/pytorch_latest_p37/lib/python3.7/concurrent/futures/process.py\", line 671, in map\n    timeout=timeout)\n  File \"/home/ubuntu/anaconda3/envs/pytorch_latest_p37/lib/python3.7/concurrent/futures/_base.py\", line 587, in map\n    fs = [self.submit(fn, *args) for args in zip(*iterables)]\n  File \"/home/ubuntu/anaconda3/envs/pytorch_latest_p37/lib/python3.7/concurrent/futures/_base.py\", line 587, in <listcomp>\n    fs = [self.submit(fn, *args) for args in zip(*iterables)]\n  File \"/home/ubuntu/anaconda3/envs/pytorch_latest_p37/lib/python3.7/concurrent/futures/process.py\", line 641, in submit\n    self._start_queue_management_thread()\n  File \"/home/ubuntu/anaconda3/envs/pytorch_latest_p37/lib/python3.7/concurrent/futures/process.py\", line 583, in _start_queue_management_thread\n    self._adjust_process_count()\n  File \"/home/ubuntu/anaconda3/envs/pytorch_latest_p37/lib/python3.7/concurrent/futures/process.py\", line 607, in _adjust_process_count\n    p.start()\n  File \"/home/ubuntu/anaconda3/envs/pytorch_latest_p37/lib/python3.7/multiprocessing/process.py\", line 110, in start\n    'daemonic processes are not allowed to have children'\nAssertionError: daemonic processes are not allowed to have children\n\"\"\"",
      "\nThe above exception was the direct cause of the following exception:\n",
      "\u001b[0;31mAssertionError\u001b[0m                            Traceback (most recent call last)",
      "\u001b[0;32m<ipython-input-4-a38235dc45ea>\u001b[0m in \u001b[0;36m<module>\u001b[0;34m\u001b[0m\n\u001b[1;32m     30\u001b[0m         \u001b[0;32mfor\u001b[0m \u001b[0mi\u001b[0m \u001b[0;32min\u001b[0m \u001b[0mrange\u001b[0m\u001b[0;34m(\u001b[0m\u001b[0mrounds\u001b[0m\u001b[0;34m)\u001b[0m\u001b[0;34m:\u001b[0m\u001b[0;34m\u001b[0m\u001b[0;34m\u001b[0m\u001b[0m\n\u001b[1;32m     31\u001b[0m             \u001b[0mprint\u001b[0m\u001b[0;34m(\u001b[0m\u001b[0;34m\"Round= %d\"\u001b[0m \u001b[0;34m%\u001b[0m\u001b[0mi\u001b[0m\u001b[0;34m)\u001b[0m\u001b[0;34m\u001b[0m\u001b[0;34m\u001b[0m\u001b[0m\n\u001b[0;32m---> 32\u001b[0;31m             \u001b[0mall_prob\u001b[0m\u001b[0;34m,\u001b[0m \u001b[0mall_adjT\u001b[0m \u001b[0;34m=\u001b[0m \u001b[0mqcd\u001b[0m\u001b[0;34m.\u001b[0m\u001b[0mparallel_sampler_prob_adjT\u001b[0m\u001b[0;34m(\u001b[0m\u001b[0msampling_dict\u001b[0m\u001b[0;34m,\u001b[0m \u001b[0mn_procs\u001b[0m\u001b[0;34m=\u001b[0m\u001b[0mn_procs\u001b[0m\u001b[0;34m)\u001b[0m\u001b[0;34m\u001b[0m\u001b[0;34m\u001b[0m\u001b[0m\n\u001b[0m\u001b[1;32m     33\u001b[0m             \u001b[0mfpath\u001b[0m \u001b[0;34m=\u001b[0m \u001b[0mos\u001b[0m\u001b[0;34m.\u001b[0m\u001b[0mpath\u001b[0m\u001b[0;34m.\u001b[0m\u001b[0mjoin\u001b[0m\u001b[0;34m(\u001b[0m\u001b[0mdata_dir\u001b[0m\u001b[0;34m,\u001b[0m \u001b[0;34m'run_prob_%s_%d.npy'\u001b[0m \u001b[0;34m%\u001b[0m\u001b[0;34m(\u001b[0m\u001b[0mmode\u001b[0m\u001b[0;34m,\u001b[0m \u001b[0mi\u001b[0m\u001b[0;34m)\u001b[0m\u001b[0;34m)\u001b[0m\u001b[0;34m\u001b[0m\u001b[0;34m\u001b[0m\u001b[0m\n\u001b[1;32m     34\u001b[0m             \u001b[0mnp\u001b[0m\u001b[0;34m.\u001b[0m\u001b[0msave\u001b[0m\u001b[0;34m(\u001b[0m\u001b[0mfpath\u001b[0m\u001b[0;34m,\u001b[0m \u001b[0mall_prob\u001b[0m\u001b[0;34m,\u001b[0m \u001b[0mallow_pickle\u001b[0m\u001b[0;34m=\u001b[0m\u001b[0;32mFalse\u001b[0m\u001b[0;34m)\u001b[0m\u001b[0;34m\u001b[0m\u001b[0;34m\u001b[0m\u001b[0m\n",
      "\u001b[0;32m~/anaconda3/envs/pytorch_latest_p37/lib/python3.7/site-packages/qcdenoise/circuit_sampling_utils.py\u001b[0m in \u001b[0;36mparallel_sampler_prob_adjT\u001b[0;34m(sampling_dict, n_procs)\u001b[0m\n\u001b[1;32m     79\u001b[0m     \u001b[0mpool\u001b[0m \u001b[0;34m=\u001b[0m \u001b[0mmp\u001b[0m\u001b[0;34m.\u001b[0m\u001b[0mPool\u001b[0m\u001b[0;34m(\u001b[0m\u001b[0mn_procs\u001b[0m\u001b[0;34m,\u001b[0m \u001b[0mmaxtasksperchild\u001b[0m\u001b[0;34m=\u001b[0m\u001b[0;36m1\u001b[0m\u001b[0;34m)\u001b[0m\u001b[0;34m\u001b[0m\u001b[0;34m\u001b[0m\u001b[0m\n\u001b[1;32m     80\u001b[0m     \u001b[0mtasks\u001b[0m \u001b[0;34m=\u001b[0m \u001b[0;34m[\u001b[0m\u001b[0;34m(\u001b[0m\u001b[0msampling_dict\u001b[0m\u001b[0;34m)\u001b[0m \u001b[0;32mfor\u001b[0m \u001b[0m_\u001b[0m \u001b[0;32min\u001b[0m \u001b[0mrange\u001b[0m\u001b[0;34m(\u001b[0m\u001b[0mn_procs\u001b[0m\u001b[0;34m)\u001b[0m\u001b[0;34m]\u001b[0m\u001b[0;34m\u001b[0m\u001b[0;34m\u001b[0m\u001b[0m\n\u001b[0;32m---> 81\u001b[0;31m     \u001b[0mjobs\u001b[0m \u001b[0;34m=\u001b[0m \u001b[0mpool\u001b[0m\u001b[0;34m.\u001b[0m\u001b[0mmap\u001b[0m\u001b[0;34m(\u001b[0m\u001b[0msample_circuit_prob_adjT_ew\u001b[0m\u001b[0;34m,\u001b[0m \u001b[0mtasks\u001b[0m\u001b[0;34m)\u001b[0m\u001b[0;34m\u001b[0m\u001b[0;34m\u001b[0m\u001b[0m\n\u001b[0m\u001b[1;32m     82\u001b[0m     all_results_prob = np.concatenate(\n\u001b[1;32m     83\u001b[0m         [res['prob_vec'] for res in jobs])\n",
      "\u001b[0;32m~/anaconda3/envs/pytorch_latest_p37/lib/python3.7/multiprocessing/pool.py\u001b[0m in \u001b[0;36mmap\u001b[0;34m(self, func, iterable, chunksize)\u001b[0m\n\u001b[1;32m    266\u001b[0m         \u001b[0;32min\u001b[0m \u001b[0ma\u001b[0m \u001b[0mlist\u001b[0m \u001b[0mthat\u001b[0m \u001b[0;32mis\u001b[0m \u001b[0mreturned\u001b[0m\u001b[0;34m.\u001b[0m\u001b[0;34m\u001b[0m\u001b[0;34m\u001b[0m\u001b[0m\n\u001b[1;32m    267\u001b[0m         '''\n\u001b[0;32m--> 268\u001b[0;31m         \u001b[0;32mreturn\u001b[0m \u001b[0mself\u001b[0m\u001b[0;34m.\u001b[0m\u001b[0m_map_async\u001b[0m\u001b[0;34m(\u001b[0m\u001b[0mfunc\u001b[0m\u001b[0;34m,\u001b[0m \u001b[0miterable\u001b[0m\u001b[0;34m,\u001b[0m \u001b[0mmapstar\u001b[0m\u001b[0;34m,\u001b[0m \u001b[0mchunksize\u001b[0m\u001b[0;34m)\u001b[0m\u001b[0;34m.\u001b[0m\u001b[0mget\u001b[0m\u001b[0;34m(\u001b[0m\u001b[0;34m)\u001b[0m\u001b[0;34m\u001b[0m\u001b[0;34m\u001b[0m\u001b[0m\n\u001b[0m\u001b[1;32m    269\u001b[0m \u001b[0;34m\u001b[0m\u001b[0m\n\u001b[1;32m    270\u001b[0m     \u001b[0;32mdef\u001b[0m \u001b[0mstarmap\u001b[0m\u001b[0;34m(\u001b[0m\u001b[0mself\u001b[0m\u001b[0;34m,\u001b[0m \u001b[0mfunc\u001b[0m\u001b[0;34m,\u001b[0m \u001b[0miterable\u001b[0m\u001b[0;34m,\u001b[0m \u001b[0mchunksize\u001b[0m\u001b[0;34m=\u001b[0m\u001b[0;32mNone\u001b[0m\u001b[0;34m)\u001b[0m\u001b[0;34m:\u001b[0m\u001b[0;34m\u001b[0m\u001b[0;34m\u001b[0m\u001b[0m\n",
      "\u001b[0;32m~/anaconda3/envs/pytorch_latest_p37/lib/python3.7/multiprocessing/pool.py\u001b[0m in \u001b[0;36mget\u001b[0;34m(self, timeout)\u001b[0m\n\u001b[1;32m    655\u001b[0m             \u001b[0;32mreturn\u001b[0m \u001b[0mself\u001b[0m\u001b[0;34m.\u001b[0m\u001b[0m_value\u001b[0m\u001b[0;34m\u001b[0m\u001b[0;34m\u001b[0m\u001b[0m\n\u001b[1;32m    656\u001b[0m         \u001b[0;32melse\u001b[0m\u001b[0;34m:\u001b[0m\u001b[0;34m\u001b[0m\u001b[0;34m\u001b[0m\u001b[0m\n\u001b[0;32m--> 657\u001b[0;31m             \u001b[0;32mraise\u001b[0m \u001b[0mself\u001b[0m\u001b[0;34m.\u001b[0m\u001b[0m_value\u001b[0m\u001b[0;34m\u001b[0m\u001b[0;34m\u001b[0m\u001b[0m\n\u001b[0m\u001b[1;32m    658\u001b[0m \u001b[0;34m\u001b[0m\u001b[0m\n\u001b[1;32m    659\u001b[0m     \u001b[0;32mdef\u001b[0m \u001b[0m_set\u001b[0m\u001b[0;34m(\u001b[0m\u001b[0mself\u001b[0m\u001b[0;34m,\u001b[0m \u001b[0mi\u001b[0m\u001b[0;34m,\u001b[0m \u001b[0mobj\u001b[0m\u001b[0;34m)\u001b[0m\u001b[0;34m:\u001b[0m\u001b[0;34m\u001b[0m\u001b[0;34m\u001b[0m\u001b[0m\n",
      "\u001b[0;31mAssertionError\u001b[0m: daemonic processes are not allowed to have children"
     ]
    }
   ],
   "source": [
    "sampling_dict[\"graph_data_test\"] = data_test\n",
    "sampling_dict[\"graph_data_train\"] = data_train\n",
    "sampling_dict[\"n_samples\"] = n_samples \n",
    "sampling_dict[\"n_qubits\"] = n_qubits\n",
    "sampling_dict[\"noise_specs\"] = {\"qubit\":{ \n",
    "                                \"readout_error\":0.25, \"prob_meas0_prep1\": 0.1, \n",
    "                                \"prob_meas1_prep0\": 0.1},\n",
    "                      \"cx\": {\"gate_error\": 0.25}, \n",
    "                      \"id\": {\"gate_error\": 0.25},\n",
    "                      \"u1\": {\"gate_error\": 0.25},\n",
    "                      \"u2\": {\"gate_error\": 0.25},\n",
    "                      \"u3\": {\"gate_error\": 0.25}}\n",
    "sampling_dict[\"circuit_sampler\"] = qcd.DeviceNoiseSampler\n",
    "sampling_dict[\"circuit_builder\"] = qcd.GraphCircuit\n",
    "sampling_dict[\"circuit_builder_kwargs\"] = {\"graph_data\":data_train}\n",
    "sampling_dict[\"adjT_dim\"] = (16, 32, 32)\n",
    "circuit_name = 'GraphState'\n",
    "sampler = 'DeviceNoise'\n",
    "file_id = \"{}_nqbits{}_{}_{}\".format(circuit_name, n_qubits, sampler, timestamp)\n",
    "data_dir = os.path.join(data_dir, file_id)\n",
    "if not os.path.exists(data_dir):\n",
    "    os.mkdir(data_dir)\n",
    "# run it. This is done in multiple rounds so that\n",
    "# I/O is frequently flushed and spawning new processes in case some are dead.\n",
    "for mode, rounds in zip([\"train\", \"test\"], [train_rounds, test_rounds]):\n",
    "    print(\"###### Sampling %s Data ######\" % mode)\n",
    "    if mode == \"test\":\n",
    "        sampling_dict[\"circuit_builder_kwargs\"] = {\"graph_data\":data_test}\n",
    "    if simulate:\n",
    "        for i in range(rounds):\n",
    "            print(\"Round= %d\" %i)\n",
    "            all_prob, all_adjT = qcd.parallel_sampler_prob_adjT(sampling_dict, n_procs=n_procs)\n",
    "            fpath = os.path.join(data_dir, 'run_prob_%s_%d.npy' %(mode, i))\n",
    "            np.save(fpath, all_prob, allow_pickle=False)\n",
    "            fpath = os.path.join(data_dir, 'run_adjT_%s_%d.npy' %(mode, i))\n",
    "            np.save(fpath, all_adjT, allow_pickle=False)\n",
    "    # split = 0.9 if mode == \"train\" else 1\n",
    "    # prob_path = qcd.pool_shuffle_split(data_dir, 'run_prob_%s' % mode, mode=mode, split=split, delete=True)\n",
    "    # adjT_path = qcd.pool_shuffle_split(data_dir, 'run_adjT_%s' % mode, mode=mode, split=split, delete=True)\n",
    "    # if mode == \"train\":\n",
    "    #     for mode, prob_p, adjT_p in zip([\"train\", \"dev\"], prob_path, adjT_path):\n",
    "    #         lmdb_path = os.path.join(data_dir,'%s.lmdb' %mode)\n",
    "    #         qcd.prob_adjT_to_lmdb(lmdb_path, prob_p, adjT_p, lmdb_map_size=int(100e9), delete=True)\n",
    "    # else:\n",
    "    #     lmdb_path = os.path.join(data_dir,'%s.lmdb' %mode)\n",
    "    #     qcd.prob_adjT_to_lmdb(lmdb_path, prob_path, adjT_path, lmdb_map_size=int(100e9), delete=True)"
   ]
  }
 ]
}