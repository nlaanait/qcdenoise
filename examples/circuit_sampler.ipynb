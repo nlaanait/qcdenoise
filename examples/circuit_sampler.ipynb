{
 "cells": [
  {
   "cell_type": "code",
   "execution_count": 1,
   "metadata": {},
   "outputs": [],
   "source": [
    "from qcdenoise import CircuitSampler"
   ]
  },
  {
   "cell_type": "markdown",
   "metadata": {},
   "source": [
    "#### Set parameters"
   ]
  },
  {
   "cell_type": "code",
   "execution_count": 2,
   "metadata": {},
   "outputs": [],
   "source": [
    "noise_specs = {'class':'unitary_noise', \n",
    "                    'type':'phase_amplitude_damping_error', \n",
    "                    'max_prob': 0.35, \n",
    "                    'unitary_op':None}\n",
    "circuit_name = 'GHZ'\n",
    "n_qubits = 5"
   ]
  },
  {
   "cell_type": "markdown",
   "metadata": {},
   "source": [
    "#### Build Circuit Sampler"
   ]
  },
  {
   "cell_type": "code",
   "execution_count": 3,
   "metadata": {},
   "outputs": [],
   "source": [
    "circ_sampler = CircuitSampler(circuit_name=circuit_name, n_qubits=n_qubits, noise_specs=noise_specs, verbose=False)\n",
    "circ_sampler.build_circuit()\n",
    "circ_sampler.build_noise_model()"
   ]
  },
  {
   "cell_type": "code",
   "execution_count": 4,
   "metadata": {},
   "outputs": [
    {
     "data": {
      "image/png": "[encoded data removed]",
      "text/plain": [
       "<Figure size 1119.72x385.28 with 1 Axes>"
      ]
     },
     "execution_count": 4,
     "metadata": {},
     "output_type": "execute_result"
    }
   ],
   "source": [
    "circ = circ_sampler.circuit\n",
    "circ.draw()"
   ]
  },
  {
   "cell_type": "code",
   "execution_count": 5,
   "metadata": {},
   "outputs": [
    {
     "name": "stdout",
     "output_type": "stream",
     "text": [
      "NoiseModel:\n",
      "  Basis gates: ['cx', 'id', 'u3', 'unitary']\n",
      "  Instructions with noise: ['unitary_3_4', 'unitary_1_2', 'unitary_0_1']\n",
      "  All-qubits errors: ['unitary_0_1', 'unitary_1_2', 'unitary_3_4']\n"
     ]
    }
   ],
   "source": [
    "noise_model = circ_sampler.noise_model\n",
    "print(noise_model)"
   ]
  },
  {
   "cell_type": "code",
   "execution_count": 6,
   "metadata": {},
   "outputs": [
    {
     "data": {
      "text/plain": [
       "{'00000': 0.517578125,\n",
       " '00001': 0.0625,\n",
       " '00010': 0.005859375,\n",
       " '00011': 0.0166015625,\n",
       " '00100': 0,\n",
       " '00101': 0.005859375,\n",
       " '00110': 0.0009765625,\n",
       " '00111': 0.0048828125,\n",
       " '01000': 0,\n",
       " '01001': 0,\n",
       " '01010': 0,\n",
       " '01011': 0,\n",
       " '01100': 0.0009765625,\n",
       " '01101': 0.01171875,\n",
       " '01110': 0.0126953125,\n",
       " '01111': 0.0205078125,\n",
       " '10000': 0,\n",
       " '10001': 0,\n",
       " '10010': 0,\n",
       " '10011': 0,\n",
       " '10100': 0.0009765625,\n",
       " '10101': 0.009765625,\n",
       " '10110': 0.015625,\n",
       " '10111': 0.0302734375,\n",
       " '11000': 0,\n",
       " '11001': 0,\n",
       " '11010': 0,\n",
       " '11011': 0,\n",
       " '11100': 0.0205078125,\n",
       " '11101': 0.0634765625,\n",
       " '11110': 0.0546875,\n",
       " '11111': 0.14453125}"
      ]
     },
     "execution_count": 6,
     "metadata": {},
     "output_type": "execute_result"
    }
   ],
   "source": [
    "circ_sampler.execute_circuit()"
   ]
  },
  {
   "cell_type": "code",
   "execution_count": null,
   "metadata": {},
   "outputs": [],
   "source": []
  }
 ],
 "metadata": {
  "kernelspec": {
   "display_name": "Python 3",
   "language": "python",
   "name": "python3"
  },
  "language_info": {
   "codemirror_mode": {
    "name": "ipython",
    "version": 3
   },
   "file_extension": ".py",
   "mimetype": "text/x-python",
   "name": "python",
   "nbconvert_exporter": "python",
   "pygments_lexer": "ipython3",
   "version": "3.7.3"
  }
 },
 "nbformat": 4,
 "nbformat_minor": 4
}
