{
 "cells": [
  {
   "cell_type": "code",
   "execution_count": 1,
   "metadata": {},
   "outputs": [],
   "source": [
    "import networkx as nx\n",
    "import matplotlib.pyplot as plt\n",
    "import warnings\n",
    "import qiskit\n",
    "import random\n",
    "import numpy as np\n",
    "import pandas as pd\n",
    "warnings.simplefilter(\"ignore\")\n"
   ]
  },
  {
   "cell_type": "markdown",
   "metadata": {},
   "source": [
    "#### Utils functions"
   ]
  },
  {
   "cell_type": "code",
   "execution_count": 54,
   "metadata": {},
   "outputs": [],
   "source": [
    "def test_graphbuild(graph_data, graph_number=1):\n",
    "    \"\"\"\n",
    "    Tests graph building from a graph_specs database by:\n",
    "    1. Building the graph\n",
    "    2. Printing nodes, neighbors and weight values\n",
    "    3. Plotting the built graph\n",
    "    if `graph_number` is None then all graphs in graph_data are built and tested\n",
    "    Parameters:  \n",
    "        graph_data (list(tuples)): graph_specs database\n",
    "        graph_number (int): graph number to build and test.  \n",
    "    Returns:\n",
    "        None\n",
    "    \"\"\"\n",
    "    plt.figure(figsize=(2,2))\n",
    "    for g_num, g_data in graph_data.items():\n",
    "        plt.clf()\n",
    "        cond = True\n",
    "        if graph_number is not None:\n",
    "            cond = g_num == str(graph_number)\n",
    "        if g_data and cond:\n",
    "            G = nx.DiGraph()\n",
    "            G.add_weighted_edges_from(g_data)\n",
    "            # print nodes and neighbors\n",
    "            for node, ngbrs in G.adjacency():\n",
    "                for ngbr, edge_attr in ngbrs.items():\n",
    "                    print(\"Node:{}, Neighbor:{}, Weight:{}\".format(node, ngbr, edge_attr[\"weight\"]))\n",
    "            # plot\n",
    "            options = {\n",
    "            'with_labels': True,\n",
    "            'node_color': 'red',\n",
    "            'node_size': 175,\n",
    "            'width': 2,\n",
    "            'font_weight':'bold',\n",
    "            'font_color': 'white',\n",
    "            }\n",
    "            nx.draw_circular(G, **options)\n",
    "            plt.title('No. %s' % g_num, loc='right')\n",
    "            plt.show()\n",
    "\n",
    "def build_graph_database(graph_data):\n",
    "    \"\"\"\n",
    "    Build graph database (dictionary of networkx.DiGraph) from graph_data dictionary.\n",
    "    \"\"\"\n",
    "    graph_db= dict([('%d' %d, {'G':None, 'V':None, 'LUclass':None, '2Color':None}) \n",
    "                          for d in range(1,len(graph_data.keys()) + 1)])\n",
    "    for (g_num, g_entry), (_, g_data) in zip(graph_db.items(), graph_data.items()):\n",
    "        if g_data:\n",
    "            g_data = offset(g_data)\n",
    "            G = nx.DiGraph()\n",
    "            G.add_weighted_edges_from(g_data)\n",
    "            g_entry['G'] = G\n",
    "            g_entry['V'] = len(G.nodes)\n",
    "    return graph_db\n",
    "        \n",
    "    \n",
    "def _build_from_graph(graph, gate_type=\"controlled_phase_gate\", verbose=True, state_vec=True):\n",
    "    \"\"\"\n",
    "    Builds a circuit from a graph by applying a 2-qubit gate between a node (qubit) and its neighbors (qubits)\n",
    "    Parameters:\n",
    "        graph (networks.DiGraph): graph object\n",
    "        gate_type (string): type of gate to apply. if gate_type=\"controlled_phase_gate\" then applies H_a-CNOT_{a,b}-H_a where a,b are qubits\n",
    "    \"\"\"\n",
    "    \n",
    "    n_qubits = len(graph.nodes)\n",
    "    q_reg = qiskit.QuantumRegister(n_qubits)\n",
    "    c_reg = qiskit.ClassicalRegister(n_qubits)\n",
    "    circ = qiskit.QuantumCircuit(q_reg, c_reg)\n",
    "    for node, ngbrs in graph.adjacency():\n",
    "        for ngbr, edge_attr in ngbrs.items():\n",
    "            if gate_type == \"controlled_phase_gate\":\n",
    "                circ.h(node)\n",
    "                circ.cx(node, ngbr)\n",
    "                circ.h(node)\n",
    "                #print(\"Adding {} between Node:{} and Neighbor:{}\".format(gate_type, node, ngbr)) \n",
    "            else:\n",
    "                pass\n",
    "    if state_vec:\n",
    "        return circ\n",
    "    circ.measure(q_reg, c_reg)\n",
    "    return circ\n",
    "\n",
    "def offset(l):\n",
    "    l = [(edge[0]-1, edge[1]-1, edge[-1]) for edge in l]\n",
    "    return l"
   ]
  },
  {
   "cell_type": "markdown",
   "metadata": {},
   "source": [
    "### Populate a Dictionary of graph specs  \n",
    "The keys correspond to the graph numbers in Table V in arXiv:060296 (Hein et al.)"
   ]
  },
  {
   "cell_type": "code",
   "execution_count": 3,
   "metadata": {},
   "outputs": [],
   "source": [
    "# Dictionary of graph specs, the keys correspond to the graph numbers in Table V in arXiv:060296 (Hein et al.)\n",
    "graph_data = dict([('%d' %d, None) for d in range(1,46)])\n",
    "\n",
    "graph_data['1'] =  [(1, 2, 1.0)]\n",
    "graph_data['2'] =  [(1, 2, 1.0), (1, 3, 1.0)]\n",
    "graph_data['3'] =  [(1, 2, 1.0), (1, 3, 1.0), (1, 4, 1.0)]\n",
    "graph_data['4'] =  [(1, 2, 1.0), (2, 3, 1.0), (3, 4, 1.0)]\n",
    "graph_data['5'] =  [(1, 2, 1.0), (1, 3, 1.0), (1, 4, 1.0), (1, 5, 1.0)]\n",
    "graph_data['6'] =  [(1, 2, 1.0), (2, 3, 1.0), (2, 5, 1.0), (3, 4, 1.0)]\n",
    "graph_data['7'] =  [(1, 2, 1.0), (2, 3, 1.0), (3, 4, 1.0), (4, 5, 1.0)]\n",
    "graph_data['8'] =  [(1, 2, 1.0), (2, 3, 1.0), (3, 4, 1.0), (4, 5, 1.0), (5, 1, 1.0)]\n",
    "graph_data['9'] =  [(1, 2, 1.0), (1, 3, 1.0), (1, 4, 1.0), (1, 4, 1.0), (1, 6, 1.0)]\n",
    "graph_data['10'] = [(1, 6, 1.0), (2, 6, 1.0), (3, 6, 1.0), (4, 5, 1.0), (5, 6, 1.0)]\n",
    "graph_data['11'] = [(1, 6, 1.0), (2, 6, 1.0), (3, 5, 1.0), (4, 5, 1.0), (5, 6, 1.0)]\n",
    "graph_data['12'] = [(1, 2, 1.0), (2, 3, 1.0), (3, 4, 1.0), (4, 5, 1.0), (6, 2, 1.0)]\n",
    "graph_data['13'] = [(1, 2, 1.0), (2, 3, 1.0), (3, 4, 1.0), (4, 5, 1.0), (3, 6, 1.0)]\n",
    "graph_data['14'] = [(1, 2, 1.0), (2, 3, 1.0), (3, 4, 1.0), (4, 5, 1.0), (5, 6, 1.0)]\n",
    "graph_data['15'] = [(1, 6, 1.0), (2, 4, 1.0), (3, 4, 1.0), (3, 6, 1.0), (4, 5, 1.0), (5, 6, 1.0)]\n",
    "graph_data['16'] = [(1, 2, 1.0), (2, 3, 1.0), (2, 4, 1.0), (3, 4, 1.0), (2, 6, 1.0), (4, 5, 1.0)]\n",
    "graph_data['17'] = [(1, 2, 1.0), (1, 5, 1.0), (1, 6, 1.0), (2, 3, 1.0), (3, 4, 1.0), (4, 5, 1.0)]\n",
    "graph_data['18'] = [(1, 2, 1.0), (2, 3, 1.0), (3, 4, 1.0), (4, 5, 1.0), (5, 6, 1.0), (6, 1, 1.0)]\n",
    "graph_data['19'] = [(1, 2, 1.0), (1, 3, 1.0), (2, 3, 1.0), (2, 5, 1.0), (3, 4, 1.0), (4, 5, 1.0), (4, 6, 1.0), (5, 6, 1.0), (6, 1, 1.0)]\n",
    "graph_data['20'] = [(1, 2, 1.0), (1, 3, 1.0), (1, 4, 1.0), (1, 5, 1.0), (1, 6, 1.0), (1, 7, 1.0)]\n",
    "graph_data['21'] = [(1, 7, 1.0), (7, 2, 1.0), (7, 3, 1.0), (7, 4, 1.0), (5, 6, 1.0), (6, 7, 1.0)]\n",
    "graph_data['22'] = [(1, 7, 1.0), (7, 2, 1.0), (7, 3, 1.0), (7, 6, 1.0), (6, 4, 1.0), (6, 5, 1.0)]\n",
    "graph_data['23'] = [(1, 7, 1.0), (7, 2, 1.0), (7, 3, 1.0), (7, 6, 1.0), (6, 5, 1.0), (5, 4, 1.0)]\n",
    "graph_data['24'] = [(1, 7, 1.0), (7, 6, 1.0), (7, 2, 1.0), (6, 5, 1.0), (5, 3, 1.0), (5, 4, 1.0)]\n",
    "graph_data['25'] = [(1, 2, 1.0), (1, 7, 1.0), (7, 3, 1.0), (7, 4, 1.0), (7, 6, 1.0), (6, 5, 1.0)]\n",
    "graph_data['26'] = [(1, 7, 1.0), (7, 2, 1.0), (7, 6, 1.0), (6, 3, 1.0), (6, 5, 1.0), (5, 4, 1.0)]\n",
    "graph_data['27'] = [(1, 2, 1.0), (2, 7, 1.0), (2, 3, 1.0), (3, 4, 1.0), (4, 5, 1.0), (5, 6, 1.0)]\n",
    "graph_data['28'] = [(1, 2, 1.0), (2, 3, 1.0), (3, 4, 1.0), (3, 5, 1.0), (5, 6, 1.0), (6, 7, 1.0)]\n",
    "graph_data['29'] = [(1, 2, 1.0), (2, 3, 1.0), (3, 4, 1.0), (4, 5, 1.0), (3, 6, 1.0), (6, 7, 1.0)]\n",
    "graph_data['30'] = [(1, 2, 1.0), (2, 3, 1.0), (3, 4, 1.0), (4, 5, 1.0), (5, 6, 1.0), (6, 7, 1.0)]\n",
    "graph_data['31'] = [(1, 3, 1.0), (2, 3, 1.0), (3, 4, 1.0), (3, 6, 1.0), (4, 5, 1.0), (5, 6, 1.0), (6, 3, 1.0), (5, 7 , 1.0)]\n",
    "graph_data['32'] = [(1, 7, 1.0), (2, 7, 1.0), (3, 6, 1.0), (4, 5, 1.0), (5, 6, 1.0), (6, 7, 1.0)]\n",
    "graph_data['33'] = [(1, 3, 1.0), (2, 3, 1.0), (3, 4, 1.0), (4, 5, 1.0), (5, 6, 1.0), (6, 7, 1.0), (7, 3, 1.0)]          \n",
    "graph_data['34'] = [(1, 4, 1.0), (2, 3, 1.0), (3, 4, 1.0), (3, 6, 1.0), (4, 5, 1.0), (5, 6, 1.0), (6, 7, 1.0)]\n",
    "graph_data['35'] = [(1, 6, 1.0), (2, 3, 1.0), (3, 4, 1.0), (4, 5, 1.0), (5, 6, 1.0), (6, 7, 1.0), (7, 3, 1.0)]\n",
    "graph_data['36'] = [(1, 2, 1.0), (2, 3, 1.0), (3, 4, 1.0), (3, 5, 1.0), (4, 5, 1.0), (4, 7, 1.0), (5, 6, 1.0)]\n",
    "graph_data['37'] = [(1, 7, 1.0), (7, 6, 1.0), (6, 5, 1.0), (5, 4, 1.0), (4, 3, 1.0), (3, 2, 1.0), (3, 7, 1.0)]\n",
    "graph_data['38'] = [(1, 6, 1.0), (1, 2, 1.0), (2, 3, 1.0), (3, 4, 1.0), (4, 5, 1.0), (5, 6, 1.0), (6, 7, 1.0)]\n",
    "graph_data['39'] = [(1, 5, 1.0), (1, 2, 1.0), (2, 3, 1.0), (3, 4, 1.0), (4, 5, 1.0), (5, 6, 1.0), (6, 7, 1.0)]\n",
    "graph_data['40'] = [(1, 2, 1.0), (2, 3, 1.0), (3, 4, 1.0), (4, 5, 1.0), (5, 6, 1.0), (6, 7, 1.0), (7, 1, 1.0)]\n",
    "graph_data['41'] = [(1, 2, 1.0), (2, 3, 1.0), (3, 4, 1.0), (4, 5, 1.0), (5, 6, 1.0), (5, 1, 1.0), (6, 1, 1.0), (6, 7, 1.0)]\n",
    "graph_data['42'] = [(1, 3, 1.0), (1, 7, 1.0), (2, 3, 1.0), (2, 6, 1.0), (3, 4, 1.0), (4, 5, 1.0), (5, 6, 1.0), (6, 7, 1.0)]\n",
    "graph_data['43'] = [(1, 2, 1.0), (1, 4, 1.0), (2, 3, 1.0), (3, 4, 1.0), (4, 5, 1.0), (5, 6, 1.0), (6, 3, 1.0), (7, 1, 1.0)]\n",
    "graph_data['44'] = [(1, 4, 1.0), (1, 7, 1.0), (2, 3, 1.0), (2, 7, 1.0), (3, 4, 1.0), (3, 5, 1.0), (4, 5, 1.0), (5, 6, 1.0), (6, 7, 1.0)]\n",
    "graph_data['45'] = [(1, 2, 1.0), (2, 3, 1.0), (2, 5, 1.0), (2, 7, 1.0), (3, 4, 1.0), (3, 7, 1.0), (4, 5, 1.0), (5, 6, 1.0), (4, 6, 1.0), (6, 7, 1.0)]                    \n",
    "                    \n",
    "                    \n",
    "                    \n",
    "                    "
   ]
  },
  {
   "cell_type": "code",
   "execution_count": 4,
   "metadata": {},
   "outputs": [
    {
     "name": "stdout",
     "output_type": "stream",
     "text": [
      "Node:1, Neighbor:2, Weight:1.0\n",
      "Node:2, Neighbor:3, Weight:1.0\n",
      "Node:2, Neighbor:5, Weight:1.0\n",
      "Node:2, Neighbor:7, Weight:1.0\n",
      "Node:3, Neighbor:4, Weight:1.0\n",
      "Node:3, Neighbor:7, Weight:1.0\n",
      "Node:5, Neighbor:6, Weight:1.0\n",
      "Node:4, Neighbor:5, Weight:1.0\n",
      "Node:4, Neighbor:6, Weight:1.0\n",
      "Node:6, Neighbor:7, Weight:1.0\n"
     ]
    },
    {
     "data": {
      "image/png": "[encoded data removed]",
      "text/plain": [
       "<Figure size 144x144 with 1 Axes>"
      ]
     },
     "metadata": {},
     "output_type": "display_data"
    }
   ],
   "source": [
    "test_graphbuild(graph_data, graph_number=45)"
   ]
  },
  {
   "cell_type": "markdown",
   "metadata": {},
   "source": [
    "Build and return a dictionary of graph objects"
   ]
  },
  {
   "cell_type": "code",
   "execution_count": 5,
   "metadata": {},
   "outputs": [],
   "source": [
    "graph_db = build_graph_database(graph_data)"
   ]
  },
  {
   "cell_type": "markdown",
   "metadata": {},
   "source": [
    "### Build circuit from a graph"
   ]
  },
  {
   "cell_type": "code",
   "execution_count": 6,
   "metadata": {},
   "outputs": [
    {
     "name": "stdout",
     "output_type": "stream",
     "text": [
      "Adding controlled_phase_gate between Node:0 and Neighbor:6\n",
      "Adding controlled_phase_gate between Node:6 and Neighbor:1\n",
      "Adding controlled_phase_gate between Node:6 and Neighbor:2\n",
      "Adding controlled_phase_gate between Node:6 and Neighbor:5\n",
      "Adding controlled_phase_gate between Node:5 and Neighbor:3\n",
      "Adding controlled_phase_gate between Node:5 and Neighbor:4\n"
     ]
    }
   ],
   "source": [
    "graph = graph_db['22']['G']\n",
    "circ = _build_from_graph(graph,state_vec=False)"
   ]
  },
  {
   "cell_type": "code",
   "execution_count": 7,
   "metadata": {},
   "outputs": [
    {
     "data": {
      "text/html": [
       "<pre style=\"word-wrap: normal;white-space: pre;background: #fff0;line-height: 1.1;font-family: &quot;Courier New&quot;,Courier,monospace\">         ┌───┐     ┌───┐     ┌─┐                                              »\n",
       "q0_0: |0>┤ H ├──■──┤ H ├─────┤M├──────────────────────────────────────────────»\n",
       "         └───┘  │  └───┘┌───┐└╥┘     ┌─┐                                      »\n",
       "q0_1: |0>───────┼───────┤ X ├─╫──────┤M├──────────────────────────────────────»\n",
       "                │       └─┬─┘ ║      └╥┘     ┌───┐     ┌─┐                    »\n",
       "q0_2: |0>───────┼─────────┼───╫───────╫──────┤ X ├─────┤M├────────────────────»\n",
       "                │         │   ║       ║      └─┬─┘     └╥┘               ┌───┐»\n",
       "q0_3: |0>───────┼─────────┼───╫───────╫────────┼────────╫────────────────┤ X ├»\n",
       "                │         │   ║       ║        │        ║                └─┬─┘»\n",
       "q0_4: |0>───────┼─────────┼───╫───────╫────────┼────────╫──────────────────┼──»\n",
       "                │         │   ║       ║        │        ║      ┌───┐┌───┐  │  »\n",
       "q0_5: |0>───────┼─────────┼───╫───────╫────────┼────────╫──────┤ X ├┤ H ├──■──»\n",
       "              ┌─┴─┐┌───┐  │   ║ ┌───┐ ║ ┌───┐  │  ┌───┐ ║ ┌───┐└─┬─┘├───┤ ┌─┐ »\n",
       "q0_6: |0>─────┤ X ├┤ H ├──■───╫─┤ H ├─╫─┤ H ├──■──┤ H ├─╫─┤ H ├──■──┤ H ├─┤M├─»\n",
       "              └───┘└───┘      ║ └───┘ ║ └───┘     └───┘ ║ └───┘     └───┘ └╥┘ »\n",
       " c0_0: 0 ═════════════════════╩═══════╬═════════════════╬══════════════════╬══»\n",
       "                                      ║                 ║                  ║  »\n",
       " c0_1: 0 ═════════════════════════════╩═════════════════╬══════════════════╬══»\n",
       "                                                        ║                  ║  »\n",
       " c0_2: 0 ═══════════════════════════════════════════════╩══════════════════╬══»\n",
       "                                                                           ║  »\n",
       " c0_3: 0 ══════════════════════════════════════════════════════════════════╬══»\n",
       "                                                                           ║  »\n",
       " c0_4: 0 ══════════════════════════════════════════════════════════════════╬══»\n",
       "                                                                           ║  »\n",
       " c0_5: 0 ══════════════════════════════════════════════════════════════════╬══»\n",
       "                                                                           ║  »\n",
       " c0_6: 0 ══════════════════════════════════════════════════════════════════╩══»\n",
       "                                                                              »\n",
       "«                                   \n",
       "«q0_0: ─────────────────────────────\n",
       "«                                   \n",
       "«q0_1: ─────────────────────────────\n",
       "«                                   \n",
       "«q0_2: ─────────────────────────────\n",
       "«           ┌─┐                     \n",
       "«q0_3: ─────┤M├─────────────────────\n",
       "«           └╥┘     ┌───┐     ┌─┐   \n",
       "«q0_4: ──────╫──────┤ X ├─────┤M├───\n",
       "«      ┌───┐ ║ ┌───┐└─┬─┘┌───┐└╥┘┌─┐\n",
       "«q0_5: ┤ H ├─╫─┤ H ├──■──┤ H ├─╫─┤M├\n",
       "«      └───┘ ║ └───┘     └───┘ ║ └╥┘\n",
       "«q0_6: ──────╫─────────────────╫──╫─\n",
       "«            ║                 ║  ║ \n",
       "«c0_0: ══════╬═════════════════╬══╬═\n",
       "«            ║                 ║  ║ \n",
       "«c0_1: ══════╬═════════════════╬══╬═\n",
       "«            ║                 ║  ║ \n",
       "«c0_2: ══════╬═════════════════╬══╬═\n",
       "«            ║                 ║  ║ \n",
       "«c0_3: ══════╩═════════════════╬══╬═\n",
       "«                              ║  ║ \n",
       "«c0_4: ════════════════════════╩══╬═\n",
       "«                                 ║ \n",
       "«c0_5: ═══════════════════════════╩═\n",
       "«                                   \n",
       "«c0_6: ═════════════════════════════\n",
       "«                                   </pre>"
      ],
      "text/plain": [
       "<qiskit.visualization.text.TextDrawing at 0x1a26318588>"
      ]
     },
     "execution_count": 7,
     "metadata": {},
     "output_type": "execute_result"
    }
   ],
   "source": [
    "circ.draw()"
   ]
  },
  {
   "cell_type": "markdown",
   "metadata": {},
   "source": [
    "## Random Disjoint Union of Graphs"
   ]
  },
  {
   "cell_type": "code",
   "execution_count": 73,
   "metadata": {},
   "outputs": [],
   "source": [
    "def random_combine_subgraphs(graph_db, target_qubits=4, smaller_subgraph=3):\n",
    "    combs = list(set(partition(target_qubits, I=smaller_subgraph)))\n",
    "    combs.pop() # remove\n",
    "    sorted_dict = get_sorted_db(graph_db)\n",
    "    graphs=[]\n",
    "    for comb in combs:\n",
    "        print('comb', comb)\n",
    "        sub_graphs = []\n",
    "        comb = list(comb)\n",
    "        if len(comb) > 1:\n",
    "            idx = 0\n",
    "            while idx < len(comb):\n",
    "                all_graphs = sorted_dict[comb[idx]]\n",
    "                if len(all_graphs) < 1:\n",
    "                    break\n",
    "                graph_idx = random.randint(0, len(all_graphs)-1)\n",
    "                sub_graphs.append(all_graphs[graph_idx])\n",
    "                idx += 1\n",
    "#             print('comb={}, subgraphs={}'.format(comb, sub_graphs))\n",
    "        else:\n",
    "            all_graphs = sorted_dict[comb[0]]\n",
    "            if len(all_graphs) > 0:\n",
    "                graph_idx = random.randint(0, len(all_graphs)-1)\n",
    "                sub_graphs.append(all_graphs[graph_idx])\n",
    "#                 print('comb={}, subgraphs={}'.format(comb, sub_graphs))\n",
    "        graphs.append(sub_graphs)\n",
    "    idx = random.randint(0, len(graphs)-1)\n",
    "    sub_graphs = graphs[idx]\n",
    "    print(\"chosen comb {}\".format(combs[idx]))\n",
    "    union_graph = nx.DiGraph()\n",
    "    for sub_g in sub_graphs:\n",
    "        union_graph = nx.disjoint_union(union_graph, sub_g)\n",
    "    return union_graph\n",
    "\n",
    "def combine_subgraphs_git(self, sub_graphs):\n",
    "    union_graph = nx.DiGraph()\n",
    "    for sub_g in sub_graphs:\n",
    "        union_nodes = len(union_graph.nodes)\n",
    "        if union_nodes > 1:\n",
    "            first_node = random.randint(0, union_graph.order() - 1)\n",
    "            offset = len(sub_g.nodes)\n",
    "            second_nodes = np.random.randint(union_graph.order(), sub_g.order() + union_graph.order() - 1,sub_g.order())\n",
    "            #second_node = random.randint(union_nodes, offset + union_nodes - 1)\n",
    "            union_graph = nx.disjoint_union(union_graph, sub_g)\n",
    "            #union_graph.add_weighted_edges_from([(first_node, second_node, 1.0)])\n",
    "            for idx in second_nodes:\n",
    "                union_graph.add_weighted_edges_from([(first_node, idx, 1.0)])\n",
    "        else:\n",
    "            union_graph = nx.disjoint_union(union_graph, sub_g)\n",
    "    return union_graph\n",
    "    \n",
    "def combine_subgraphs(graph_db, target_qubits=4, smallest_subgraph=2, largest_subgraph=None):\n",
    "    combs = list(set(partition(target_qubits, I=smallest_subgraph)))\n",
    "    sorted_dict = get_sorted_db(graph_db)\n",
    "    if largest_subgraph is None:\n",
    "        for key, itm in sorted_dict.items():\n",
    "            if len(itm) > 1:\n",
    "                largest_subgraph = key\n",
    "    for (itm, comb) in enumerate(combs):\n",
    "        if any([itm > largest_subgraph for itm in comb]):\n",
    "            combs.pop(itm)\n",
    "    comb = list(combs[random.randint(0, len(combs) - 1)])\n",
    "    sub_graphs = []\n",
    "    if len(comb) > 1:\n",
    "        idx = 0\n",
    "        while idx < len(comb):\n",
    "            all_subgraphs = sorted_dict[comb[idx]]\n",
    "            graph_idx = random.randint(0, len(all_subgraphs) - 1)\n",
    "            sub_graphs.append(all_subgraphs[graph_idx])\n",
    "            idx += 1\n",
    "    else:\n",
    "        all_subgraphs = sorted_dict[comb[0]]\n",
    "        graph_idx = random.randint(0, len(all_graphs) - 1)\n",
    "        sub_graphs.append(all_graphs[graph_idx])\n",
    "    \n",
    "    union_graph = nx.DiGraph()\n",
    "    for sub_g in sub_graphs:\n",
    "        union_nodes = len(union_graph.nodes)\n",
    "        if union_nodes > 1:\n",
    "            first_node = random.randint(0, union_nodes - 1)\n",
    "            print(first_node)\n",
    "            offset = len(sub_g.nodes)\n",
    "            #second_node = random.randint(union_nodes, offset + union_nodes - 1)\n",
    "            #second_nodes = np.random.randint(union_graph.order(), sub_g.order() + union_graph.order() - 1,\\\n",
    "            #                                 np.random.randint(0,sub_g.order()))\n",
    "            second_nodes = np.random.choice(range(union_graph.order(), sub_g.order() + union_graph.order() - 1),\\\n",
    "                                             np.random.randint(0,sub_g.order()),replace=False)\n",
    "            print(second_nodes)\n",
    "            print('number of edges added between subgraphs: ',len(second_nodes))\n",
    "            #second_node = random.randint(union_nodes, offset + union_nodes - 1)\n",
    "        #union_graph = nx.disjoint_union(union_graph, sub_g)\n",
    "        union_graph = nx.disjoint_union(union_graph, sub_g)\n",
    "        if union_nodes > 1:\n",
    "            #union_graph.add_weighted_edges_from([(first_node, second_node, 1.0)])\n",
    "            #union_graph.add_weighted_edges_from([(first_node, second_node, 1.0)])\n",
    "            for idx in second_nodes:\n",
    "                union_graph.add_weighted_edges_from([(first_node, idx, 1.0)])\n",
    "    return union_graph, sub_graphs\n",
    "\n",
    "def get_sorted_db(gaph_db):\n",
    "    sorted_dict = dict([(i, []) for i in range(1,len(graph_db.keys()))])\n",
    "    for key, itm in graph_db.items():\n",
    "        if itm[\"G\"] is not None:\n",
    "            sorted_key = len(itm[\"G\"].nodes)\n",
    "            sorted_dict[sorted_key].append(itm[\"G\"])\n",
    "    return sorted_dict\n",
    "     \n",
    "    \n",
    "def partition(n, I=2):\n",
    "    yield(n,)\n",
    "    for i in range(I, n//2 + 1):\n",
    "        for p in partition(n-i, i):\n",
    "             yield (i,) + p"
   ]
  },
  {
   "cell_type": "code",
   "execution_count": 82,
   "metadata": {},
   "outputs": [
    {
     "name": "stdout",
     "output_type": "stream",
     "text": [
      "0\n",
      "[2]\n",
      "number of edges added between subgraphs:  1\n",
      "1\n",
      "[]\n",
      "number of edges added between subgraphs:  0\n",
      "2\n",
      "[6]\n",
      "number of edges added between subgraphs:  1\n"
     ]
    },
    {
     "data": {
      "image/png": "[encoded data removed]",
      "text/plain": [
       "<Figure size 432x288 with 1 Axes>"
      ]
     },
     "metadata": {},
     "output_type": "display_data"
    },
    {
     "data": {
      "image/png": "[encoded data removed]",
      "text/plain": [
       "<Figure size 432x288 with 1 Axes>"
      ]
     },
     "metadata": {},
     "output_type": "display_data"
    },
    {
     "data": {
      "image/png": "[encoded data removed]",
      "text/plain": [
       "<Figure size 432x288 with 1 Axes>"
      ]
     },
     "metadata": {},
     "output_type": "display_data"
    },
    {
     "data": {
      "image/png": "[encoded data removed]",
      "text/plain": [
       "<Figure size 432x288 with 1 Axes>"
      ]
     },
     "metadata": {},
     "output_type": "display_data"
    },
    {
     "data": {
      "image/png": "[encoded data removed]",
      "text/plain": [
       "<Figure size 432x288 with 1 Axes>"
      ]
     },
     "metadata": {},
     "output_type": "display_data"
    }
   ],
   "source": [
    "g, subgraphs  = combine_subgraphs(graph_db, target_qubits=8, smallest_subgraph=2)\n",
    "options = {\n",
    "            'with_labels': True,\n",
    "            'node_color': 'red',\n",
    "            'node_size': 175,\n",
    "            'width': 2,\n",
    "            'font_weight':'bold',\n",
    "            'font_color': 'white',\n",
    "            }\n",
    "nx.draw_circular(g, **options)\n",
    "for subg in subgraphs:\n",
    "    plt.figure()\n",
    "    nx.draw_circular(subg, **options)"
   ]
  },
  {
   "cell_type": "code",
   "execution_count": 15,
   "metadata": {},
   "outputs": [
    {
     "name": "stdout",
     "output_type": "stream",
     "text": [
      "Adding controlled_phase_gate between Node:0 and Neighbor:1\n",
      "Adding controlled_phase_gate between Node:0 and Neighbor:2\n",
      "Adding controlled_phase_gate between Node:1 and Neighbor:4\n",
      "Adding controlled_phase_gate between Node:1 and Neighbor:6\n",
      "Adding controlled_phase_gate between Node:2 and Neighbor:3\n",
      "Adding controlled_phase_gate between Node:4 and Neighbor:5\n",
      "Adding controlled_phase_gate between Node:5 and Neighbor:6\n",
      "Adding controlled_phase_gate between Node:6 and Neighbor:7\n"
     ]
    },
    {
     "data": {
      "text/html": [
       "<pre style=\"word-wrap: normal;white-space: pre;background: #fff0;line-height: 1.1;font-family: &quot;Courier New&quot;,Courier,monospace\">         ┌───┐     ┌───┐┌───┐     ┌───┐          ┌─┐                           »\n",
       "q3_0: |0>┤ H ├──■──┤ H ├┤ H ├──■──┤ H ├──────────┤M├───────────────────────────»\n",
       "         └───┘┌─┴─┐├───┤└───┘  │  ├───┤┌───┐     └╥┘┌───┐           ┌─┐        »\n",
       "q3_1: |0>─────┤ X ├┤ H ├──■────┼──┤ H ├┤ H ├──■───╫─┤ H ├───────────┤M├────────»\n",
       "              └───┘└───┘  │  ┌─┴─┐├───┤└───┘  │   ║ ├───┤           └╥┘┌─┐     »\n",
       "q3_2: |0>─────────────────┼──┤ X ├┤ H ├──■────┼───╫─┤ H ├────────────╫─┤M├─────»\n",
       "                          │  └───┘└───┘┌─┴─┐  │   ║ └───┘┌─┐         ║ └╥┘     »\n",
       "q3_3: |0>─────────────────┼────────────┤ X ├──┼───╫──────┤M├─────────╫──╫──────»\n",
       "                        ┌─┴─┐┌───┐     ├───┤  │   ║      └╥┘┌─┐      ║  ║      »\n",
       "q3_4: |0>───────────────┤ X ├┤ H ├──■──┤ H ├──┼───╫───────╫─┤M├──────╫──╫──────»\n",
       "                        └───┘└───┘┌─┴─┐├───┤  │   ║       ║ └╥┘┌───┐ ║  ║      »\n",
       "q3_5: |0>─────────────────────────┤ X ├┤ H ├──┼───╫───■───╫──╫─┤ H ├─╫──╫──────»\n",
       "                                  └───┘└───┘┌─┴─┐ ║ ┌─┴─┐ ║  ║ ├───┤ ║  ║      »\n",
       "q3_6: |0>───────────────────────────────────┤ X ├─╫─┤ X ├─╫──╫─┤ H ├─╫──╫───■──»\n",
       "                                            └───┘ ║ └───┘ ║  ║ └───┘ ║  ║ ┌─┴─┐»\n",
       "q3_7: |0>─────────────────────────────────────────╫───────╫──╫───────╫──╫─┤ X ├»\n",
       "                                                  ║       ║  ║       ║  ║ └───┘»\n",
       " c3_0: 0 ═════════════════════════════════════════╩═══════╬══╬═══════╬══╬══════»\n",
       "                                                          ║  ║       ║  ║      »\n",
       " c3_1: 0 ═════════════════════════════════════════════════╬══╬═══════╩══╬══════»\n",
       "                                                          ║  ║          ║      »\n",
       " c3_2: 0 ═════════════════════════════════════════════════╬══╬══════════╩══════»\n",
       "                                                          ║  ║                 »\n",
       " c3_3: 0 ═════════════════════════════════════════════════╩══╬═════════════════»\n",
       "                                                             ║                 »\n",
       " c3_4: 0 ════════════════════════════════════════════════════╩═════════════════»\n",
       "                                                                               »\n",
       " c3_5: 0 ══════════════════════════════════════════════════════════════════════»\n",
       "                                                                               »\n",
       " c3_6: 0 ══════════════════════════════════════════════════════════════════════»\n",
       "                                                                               »\n",
       " c3_7: 0 ══════════════════════════════════════════════════════════════════════»\n",
       "                                                                               »\n",
       "«                 \n",
       "«q3_0: ───────────\n",
       "«                 \n",
       "«q3_1: ───────────\n",
       "«                 \n",
       "«q3_2: ───────────\n",
       "«                 \n",
       "«q3_3: ───────────\n",
       "«                 \n",
       "«q3_4: ───────────\n",
       "«      ┌─┐        \n",
       "«q3_5: ┤M├────────\n",
       "«      └╥┘┌───┐┌─┐\n",
       "«q3_6: ─╫─┤ H ├┤M├\n",
       "«       ║ └┬─┬┘└╥┘\n",
       "«q3_7: ─╫──┤M├──╫─\n",
       "«       ║  └╥┘  ║ \n",
       "«c3_0: ═╬═══╬═══╬═\n",
       "«       ║   ║   ║ \n",
       "«c3_1: ═╬═══╬═══╬═\n",
       "«       ║   ║   ║ \n",
       "«c3_2: ═╬═══╬═══╬═\n",
       "«       ║   ║   ║ \n",
       "«c3_3: ═╬═══╬═══╬═\n",
       "«       ║   ║   ║ \n",
       "«c3_4: ═╬═══╬═══╬═\n",
       "«       ║   ║   ║ \n",
       "«c3_5: ═╩═══╬═══╬═\n",
       "«           ║   ║ \n",
       "«c3_6: ═════╬═══╩═\n",
       "«           ║     \n",
       "«c3_7: ═════╩═════\n",
       "«                 </pre>"
      ],
      "text/plain": [
       "<qiskit.visualization.text.TextDrawing at 0x1a2694ab70>"
      ]
     },
     "execution_count": 15,
     "metadata": {},
     "output_type": "execute_result"
    }
   ],
   "source": [
    "circ = _build_from_graph(g,state_vec=False)\n",
    "circ.draw()"
   ]
  },
  {
   "cell_type": "code",
   "execution_count": 124,
   "metadata": {},
   "outputs": [
    {
     "name": "stdout",
     "output_type": "stream",
     "text": [
      "2\n",
      "[4 6 5]\n",
      "number of edges added between subgraphs:  3\n",
      "3\n",
      "[6 4 5]\n",
      "number of edges added between subgraphs:  3\n",
      "3\n",
      "[]\n",
      "number of edges added between subgraphs:  0\n",
      "1\n",
      "[4 6 5]\n",
      "number of edges added between subgraphs:  3\n",
      "0\n",
      "[5 6]\n",
      "number of edges added between subgraphs:  2\n",
      "2\n",
      "[5 6 4]\n",
      "number of edges added between subgraphs:  3\n",
      "2\n",
      "[4 6]\n",
      "number of edges added between subgraphs:  2\n",
      "2\n",
      "[5]\n",
      "number of edges added between subgraphs:  1\n",
      "2\n",
      "[4 5]\n",
      "number of edges added between subgraphs:  2\n",
      "3\n",
      "[5]\n",
      "number of edges added between subgraphs:  1\n",
      "3\n",
      "[6 4]\n",
      "number of edges added between subgraphs:  2\n",
      "2\n",
      "[4 5 6]\n",
      "number of edges added between subgraphs:  3\n",
      "3\n",
      "[4 5]\n",
      "number of edges added between subgraphs:  2\n",
      "2\n",
      "[4 6]\n",
      "number of edges added between subgraphs:  2\n",
      "3\n",
      "[]\n",
      "number of edges added between subgraphs:  0\n",
      "2\n",
      "[]\n",
      "number of edges added between subgraphs:  0\n",
      "1\n",
      "[6 4 5]\n",
      "number of edges added between subgraphs:  3\n",
      "0\n",
      "[6]\n",
      "number of edges added between subgraphs:  1\n",
      "1\n",
      "[4 6]\n",
      "number of edges added between subgraphs:  2\n",
      "2\n",
      "[]\n",
      "number of edges added between subgraphs:  0\n",
      "0\n",
      "[5]\n",
      "number of edges added between subgraphs:  1\n",
      "3\n",
      "[5 6 4]\n",
      "number of edges added between subgraphs:  3\n",
      "3\n",
      "[4 5]\n",
      "number of edges added between subgraphs:  2\n",
      "1\n",
      "[5 4 6]\n",
      "number of edges added between subgraphs:  3\n",
      "0\n",
      "[]\n",
      "number of edges added between subgraphs:  0\n",
      "2\n",
      "[4 5]\n",
      "number of edges added between subgraphs:  2\n",
      "1\n",
      "[4 6]\n",
      "number of edges added between subgraphs:  2\n",
      "3\n",
      "[6]\n",
      "number of edges added between subgraphs:  1\n",
      "0\n",
      "[5]\n",
      "number of edges added between subgraphs:  1\n",
      "0\n",
      "[6]\n",
      "number of edges added between subgraphs:  1\n",
      "0\n",
      "[]\n",
      "number of edges added between subgraphs:  0\n",
      "0\n",
      "[6 4 5]\n",
      "number of edges added between subgraphs:  3\n",
      "0\n",
      "[4 5]\n",
      "number of edges added between subgraphs:  2\n",
      "0\n",
      "[4]\n",
      "number of edges added between subgraphs:  1\n",
      "2\n",
      "[]\n",
      "number of edges added between subgraphs:  0\n",
      "0\n",
      "[]\n",
      "number of edges added between subgraphs:  0\n",
      "0\n",
      "[4]\n",
      "number of edges added between subgraphs:  1\n",
      "0\n",
      "[]\n",
      "number of edges added between subgraphs:  0\n",
      "0\n",
      "[6 4]\n",
      "number of edges added between subgraphs:  2\n",
      "2\n",
      "[5 4]\n",
      "number of edges added between subgraphs:  2\n",
      "3\n",
      "[4]\n",
      "number of edges added between subgraphs:  1\n",
      "0\n",
      "[]\n",
      "number of edges added between subgraphs:  0\n",
      "3\n",
      "[4]\n",
      "number of edges added between subgraphs:  1\n",
      "2\n",
      "[]\n",
      "number of edges added between subgraphs:  0\n",
      "1\n",
      "[6 4]\n",
      "number of edges added between subgraphs:  2\n",
      "3\n",
      "[6 4 5]\n",
      "number of edges added between subgraphs:  3\n",
      "1\n",
      "[5]\n",
      "number of edges added between subgraphs:  1\n",
      "0\n",
      "[5]\n",
      "number of edges added between subgraphs:  1\n",
      "3\n",
      "[6 4 5]\n",
      "number of edges added between subgraphs:  3\n",
      "2\n",
      "[6 4]\n",
      "number of edges added between subgraphs:  2\n"
     ]
    }
   ],
   "source": [
    "ent_meas = {}\n",
    "stored_graphs = []\n",
    "for jdx in range(50):\n",
    "    g, subgraphs= combine_subgraphs(graph_db, target_qubits=8, smallest_subgraph=4)\n",
    "    circ = _build_from_graph(g)\n",
    "    seq_ent_vals=[]\n",
    "    stored_graphs.append(g)\n",
    "    for idx in range(150):\n",
    "        n_qubits=g.order()\n",
    "        half = n_qubits//2 \n",
    "        sub_sys = np.random.choice(range(n_qubits), half, replace=False)\n",
    "        val = qiskit.tools.qi.qi.entropy(qiskit.tools.qi.qi.partial_trace(\n",
    "            qiskit.execute(circ, backend=qiskit.Aer.get_backend('statevector_simulator'), shots=2048).result().get_statevector(), sub_sys))\n",
    "        #print(sub_sys, np.round(val, 3))\n",
    "        seq_ent_vals.append(val)\n",
    "    ent_meas[jdx]=seq_ent_vals\n",
    "    \n",
    "#print(\"mean={}, max={}, std={}\".format(np.mean(ent_meas), np.max(ent_meas), np.std(ent_meas)))\n",
    "#ent_df = pd.DataFrame.from_dict(ent_meas,orient='index')\n",
    "ent_df=pd.DataFrame.from_dict(ent_meas,orient='columns')"
   ]
  },
  {
   "cell_type": "code",
   "execution_count": 125,
   "metadata": {},
   "outputs": [
    {
     "data": {
      "image/png": "[encoded data removed]",
      "text/plain": [
       "<Figure size 432x288 with 1 Axes>"
      ]
     },
     "metadata": {},
     "output_type": "display_data"
    }
   ],
   "source": [
    "nx.draw_circular(stored_graphs[1], **options)"
   ]
  },
  {
   "cell_type": "code",
   "execution_count": 42,
   "metadata": {},
   "outputs": [],
   "source": []
  },
  {
   "cell_type": "code",
   "execution_count": 113,
   "metadata": {},
   "outputs": [
    {
     "data": {
      "image/png": "[encoded data removed]",
      "text/plain": [
       "<Figure size 1152x1296 with 1 Axes>"
      ]
     },
     "metadata": {
      "needs_background": "light"
     },
     "output_type": "display_data"
    }
   ],
   "source": [
    "f, ax = plt.subplots(figsize=(16,18))\n",
    "for idx in range(25):\n",
    "    #ent_df[idx].plot(kind='bar',ax=ax,alpha=0.5)\n",
    "    ent_df[idx].divide(ent_df.max().max()).hist(alpha=0.5)\n",
    "    #ent_df[idx].hist(alpha=0.25)"
   ]
  },
  {
   "cell_type": "code",
   "execution_count": 126,
   "metadata": {},
   "outputs": [
    {
     "data": {
      "text/plain": [
       "2.7725887222397816"
      ]
     },
     "execution_count": 126,
     "metadata": {},
     "output_type": "execute_result"
    }
   ],
   "source": [
    "ent_df.max().max()"
   ]
  },
  {
   "cell_type": "code",
   "execution_count": 127,
   "metadata": {},
   "outputs": [
    {
     "data": {
      "text/plain": [
       "[<matplotlib.lines.Line2D at 0x1a2b7d3a90>]"
      ]
     },
     "execution_count": 127,
     "metadata": {},
     "output_type": "execute_result"
    },
    {
     "data": {
      "image/png": "[encoded data removed]",
      "text/plain": [
       "<Figure size 432x288 with 1 Axes>"
      ]
     },
     "metadata": {
      "needs_background": "light"
     },
     "output_type": "display_data"
    }
   ],
   "source": [
    "plt.plot(ent_df.divide(ent_df.max().max()).mean())\n"
   ]
  },
  {
   "cell_type": "code",
   "execution_count": 141,
   "metadata": {},
   "outputs": [
    {
     "data": {
      "text/plain": [
       "Int64Index([5, 12, 21, 26, 28, 29, 32, 40, 45, 47], dtype='int64')"
      ]
     },
     "execution_count": 141,
     "metadata": {},
     "output_type": "execute_result"
    }
   ],
   "source": [
    "ent_df.columns[ent_df.divide(ent_df.max().max()).mean()>0.7]"
   ]
  },
  {
   "cell_type": "code",
   "execution_count": 131,
   "metadata": {},
   "outputs": [
    {
     "data": {
      "text/plain": [
       "Int64Index([12, 32], dtype='int64')"
      ]
     },
     "execution_count": 131,
     "metadata": {},
     "output_type": "execute_result"
    }
   ],
   "source": [
    "ent_df.columns[ent_df.divide(ent_df.max().max()).mean()>0.75]"
   ]
  },
  {
   "cell_type": "code",
   "execution_count": 133,
   "metadata": {},
   "outputs": [
    {
     "data": {
      "image/png": "[encoded data removed]",
      "text/plain": [
       "<Figure size 432x288 with 1 Axes>"
      ]
     },
     "metadata": {},
     "output_type": "display_data"
    }
   ],
   "source": [
    "nx.draw(stored_graphs[32])"
   ]
  },
  {
   "cell_type": "code",
   "execution_count": 135,
   "metadata": {},
   "outputs": [
    {
     "data": {
      "text/plain": [
       "Int64Index([4, 19, 33], dtype='int64')"
      ]
     },
     "execution_count": 135,
     "metadata": {},
     "output_type": "execute_result"
    }
   ],
   "source": [
    "ent_df.columns[ent_df.divide(ent_df.max().max()).mean()<0.55]"
   ]
  },
  {
   "cell_type": "code",
   "execution_count": 136,
   "metadata": {},
   "outputs": [
    {
     "data": {
      "image/png": "[encoded data removed]",
      "text/plain": [
       "<Figure size 432x288 with 1 Axes>"
      ]
     },
     "metadata": {},
     "output_type": "display_data"
    }
   ],
   "source": [
    "nx.draw(stored_graphs[4])"
   ]
  },
  {
   "cell_type": "code",
   "execution_count": 139,
   "metadata": {},
   "outputs": [
    {
     "data": {
      "image/png": "[encoded data removed]",
      "text/plain": [
       "<Figure size 432x288 with 1 Axes>"
      ]
     },
     "metadata": {},
     "output_type": "display_data"
    }
   ],
   "source": [
    "nx.draw(stored_graphs[19])"
   ]
  },
  {
   "cell_type": "code",
   "execution_count": 140,
   "metadata": {},
   "outputs": [
    {
     "data": {
      "image/png": "[encoded data removed]",
      "text/plain": [
       "<Figure size 432x288 with 1 Axes>"
      ]
     },
     "metadata": {},
     "output_type": "display_data"
    }
   ],
   "source": [
    "nx.draw(stored_graphs[33])"
   ]
  },
  {
   "cell_type": "code",
   "execution_count": null,
   "metadata": {},
   "outputs": [],
   "source": []
  }
 ],
 "metadata": {
  "kernelspec": {
   "display_name": "Python 3",
   "language": "python",
   "name": "python3"
  },
  "language_info": {
   "codemirror_mode": {
    "name": "ipython",
    "version": 3
   },
   "file_extension": ".py",
   "mimetype": "text/x-python",
   "name": "python",
   "nbconvert_exporter": "python",
   "pygments_lexer": "ipython3",
   "version": "3.6.10"
  }
 },
 "nbformat": 4,
 "nbformat_minor": 4
}
