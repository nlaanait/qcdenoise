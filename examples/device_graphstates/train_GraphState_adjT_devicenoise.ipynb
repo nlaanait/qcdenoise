{
 "cells": [
  {
   "cell_type": "code",
   "execution_count": 5,
   "metadata": {},
   "outputs": [],
   "source": [
    "import os\n",
    "import numpy as np\n",
    "import matplotlib.pyplot as plt\n",
    "import torch\n",
    "import torch.nn as nn\n",
    "import torch.nn.functional as F\n",
    "import torch.optim as optim\n",
    "from torch.utils.data import DataLoader\n",
    "import matplotlib.pyplot as plt\n",
    "import pandas as pd\n",
    "\n",
    "# qcdenoise imports\n",
    "from qcdenoise import DenseModel, AdjTModel, AdjTAsymModel \n",
    "from qcdenoise.io_utils import QCIRCDataSet\n",
    "from qcdenoise.ml_utils import train, test"
   ]
  },
  {
   "cell_type": "markdown",
   "metadata": {},
   "source": [
    "### Load Data"
   ]
  },
  {
   "cell_type": "code",
   "execution_count": 7,
   "metadata": {},
   "outputs": [
    {
     "name": "stdout",
     "output_type": "stream",
     "text": [
      "Total # of samples in train set: 7600, test set:380\n"
     ]
    }
   ],
   "source": [
    "data_path = '/data/MLQC/GraphState_nqbits9_DeviceNoise_040620'\n",
    "traindata = QCIRCDataSet('%s_train.lmdb' % data_path, debug=False)\n",
    "testdata = QCIRCDataSet('%s_test.lmdb' % data_path, debug=False)\n",
    "print('Total # of samples in train set: {}, test set:{}'.format(len(traindata), len(testdata)))\n",
    "trainloader = DataLoader(traindata, batch_size=64, shuffle=True, pin_memory=True, drop_last=True)\n",
    "testloader = DataLoader(testdata, batch_size=64, shuffle=True, pin_memory=True, drop_last=True)\n",
    "if not os.path.exists(data_path):\n",
    "    os.mkdir(data_path)"
   ]
  },
  {
   "cell_type": "markdown",
   "metadata": {},
   "source": [
    "#### Plot a sample"
   ]
  },
  {
   "cell_type": "code",
   "execution_count": 8,
   "metadata": {},
   "outputs": [
    {
     "data": {
      "text/plain": [
       "Text(0.5, 1.0, 'Adjacency Tensor, plane=0')"
      ]
     },
     "execution_count": 8,
     "metadata": {},
     "output_type": "execute_result"
    },
    {
     "data": {
      "image/png": "[encoded data removed]",
      "text/plain": [
       "<Figure size 432x288 with 1 Axes>"
      ]
     },
     "metadata": {
      "needs_background": "light"
     },
     "output_type": "display_data"
    },
    {
     "data": {
      "image/png": "[encoded data removed]",
      "text/plain": [
       "<Figure size 432x288 with 1 Axes>"
      ]
     },
     "metadata": {
      "needs_background": "light"
     },
     "output_type": "display_data"
    }
   ],
   "source": [
    "idx = np.random.randint(0, len(traindata)-1)\n",
    "inputs, targets, encodings =  traindata[idx]['input'], traindata[idx]['target'], traindata[idx]['encoding']\n",
    "inputs_dim = inputs.shape[0]\n",
    "targets_dim = targets.shape[0]\n",
    "encodings_dim = encodings.shape\n",
    "plt.figure(1)\n",
    "plt.bar(np.arange(inputs_dim), inputs.numpy(), width=5, color='w', edgecolor='k')\n",
    "plt.title(\"Prob vector\")\n",
    "plt.figure(2)\n",
    "plt.imshow(encodings.numpy()[0], cmap='RdBu')\n",
    "plt.title(\"Adjacency Tensor, plane=0\")"
   ]
  },
  {
   "cell_type": "markdown",
   "metadata": {},
   "source": [
    "### Model"
   ]
  },
  {
   "cell_type": "code",
   "execution_count": 9,
   "metadata": {},
   "outputs": [],
   "source": [
    "p_dropout=0.1\n",
    "inputs_dim = inputs.shape[0]\n",
    "targets_dim = targets.shape[0]\n",
    "encodings_dim = encodings.shape\n",
    "net_res = AdjTAsymModel(inputs_dim=inputs_dim, targets_dim=targets_dim, encodings_dim=encodings_dim, \n",
    "                                  combine_mode='Multiply', asym_mode='residual', p_dropout=p_dropout)\n",
    "# print('AdjNet (Residual Units):\\n', net_res)\n",
    "net_dense = AdjTAsymModel(inputs_dim=inputs_dim, targets_dim=targets_dim, encodings_dim=encodings_dim, \n",
    "                                  combine_mode='Multiply', asym_mode='dense', p_dropout=p_dropout)\n",
    "# print('AdjNet (Dense Units):\\n',net_dense)"
   ]
  },
  {
   "cell_type": "markdown",
   "metadata": {},
   "source": [
    "### Train"
   ]
  },
  {
   "cell_type": "markdown",
   "metadata": {},
   "source": [
    "#### loss functions"
   ]
  },
  {
   "cell_type": "code",
   "execution_count": 10,
   "metadata": {},
   "outputs": [],
   "source": [
    "def mse(outputs, targets):\n",
    "    MSE = torch.nn.MSELoss(reduction='sum')\n",
    "    outputs = F.softmax(outputs, dim=1)\n",
    "    return MSE(outputs, targets)\n",
    "\n",
    "def kl(outputs, targets):\n",
    "    KL = torch.nn.KLDivLoss(reduction='sum')\n",
    "    outputs = F.log_softmax(outputs, dim=1)\n",
    "    return KL(outputs, targets)"
   ]
  },
  {
   "cell_type": "markdown",
   "metadata": {},
   "source": [
    "#### Optimizer/Learning policy"
   ]
  },
  {
   "cell_type": "code",
   "execution_count": 11,
   "metadata": {},
   "outputs": [],
   "source": [
    "def exp_scheduler(net, ilr=1e-3, lr_decay=0.9, weight_decay=1e-5):\n",
    "    optimizer = optim.Adam(net.parameters(), lr=ilr, weight_decay=weight_decay)\n",
    "    scheduler = optim.lr_scheduler.ExponentialLR(optimizer, lr_decay)\n",
    "    return scheduler, optimizer\n"
   ]
  },
  {
   "cell_type": "markdown",
   "metadata": {},
   "source": [
    "#### Dense Block "
   ]
  },
  {
   "cell_type": "code",
   "execution_count": 12,
   "metadata": {},
   "outputs": [
    {
     "name": "stdout",
     "output_type": "stream",
     "text": [
      "Test Data:\n",
      "Batches=5, Average Loss= 78.374\n",
      "Test Data:\n",
      "Batches=5, Average Loss= 74.546\n",
      "Test Data:\n",
      "Batches=5, Average Loss= 74.535\n",
      "Test Data:\n",
      "Batches=5, Average Loss= 74.319\n",
      "Test Data:\n",
      "Batches=5, Average Loss= 74.035\n",
      "Epoch=5, Lr= 0.000774, Step=  500, Loss=72.895\n",
      "Test Data:\n",
      "Batches=5, Average Loss= 74.358\n",
      "Test Data:\n",
      "Batches=5, Average Loss= 73.409\n"
     ]
    },
    {
     "ename": "KeyboardInterrupt",
     "evalue": "",
     "output_type": "error",
     "traceback": [
      "\u001b[0;31m---------------------------------------------------------------------------\u001b[0m",
      "\u001b[0;31mKeyboardInterrupt\u001b[0m                         Traceback (most recent call last)",
      "\u001b[0;32m<ipython-input-12-9d2f2e73b488>\u001b[0m in \u001b[0;36m<module>\u001b[0;34m\u001b[0m\n\u001b[1;32m      4\u001b[0m \u001b[0mtest_func_args\u001b[0m \u001b[0;34m=\u001b[0m \u001b[0;34m(\u001b[0m\u001b[0mnet_dense\u001b[0m\u001b[0;34m,\u001b[0m \u001b[0mtestloader\u001b[0m\u001b[0;34m,\u001b[0m \u001b[0mloss_func\u001b[0m\u001b[0;34m)\u001b[0m\u001b[0;34m\u001b[0m\u001b[0;34m\u001b[0m\u001b[0m\n\u001b[1;32m      5\u001b[0m dense_logs = train(net_dense, trainloader, loss_func, scheduler, optimizer, save_epoch=1,\n\u001b[0;32m----> 6\u001b[0;31m       step_log= 500, num_epochs=10, test_epoch=1, test_func_args=test_func_args, path=model_path)\n\u001b[0m",
      "\u001b[0;32m~/work/ML_QC/qcdenoise/qcdenoise/ml_utils.py\u001b[0m in \u001b[0;36mtrain\u001b[0;34m(*args, **kwargs)\u001b[0m\n\u001b[1;32m      8\u001b[0m     \u001b[0mval\u001b[0m \u001b[0;34m=\u001b[0m \u001b[0;32mNone\u001b[0m\u001b[0;34m\u001b[0m\u001b[0;34m\u001b[0m\u001b[0m\n\u001b[1;32m      9\u001b[0m     \u001b[0;32mif\u001b[0m \u001b[0misinstance\u001b[0m\u001b[0;34m(\u001b[0m\u001b[0mnet\u001b[0m\u001b[0;34m,\u001b[0m \u001b[0mAdjTModel\u001b[0m\u001b[0;34m)\u001b[0m \u001b[0;32mor\u001b[0m \u001b[0misinstance\u001b[0m\u001b[0;34m(\u001b[0m\u001b[0mnet\u001b[0m\u001b[0;34m,\u001b[0m \u001b[0mAdjTAsymModel\u001b[0m\u001b[0;34m)\u001b[0m\u001b[0;34m:\u001b[0m\u001b[0;34m\u001b[0m\u001b[0;34m\u001b[0m\u001b[0m\n\u001b[0;32m---> 10\u001b[0;31m         \u001b[0mval\u001b[0m \u001b[0;34m=\u001b[0m \u001b[0mtrain_adjT\u001b[0m\u001b[0;34m(\u001b[0m\u001b[0;34m*\u001b[0m\u001b[0margs\u001b[0m\u001b[0;34m,\u001b[0m \u001b[0;34m**\u001b[0m\u001b[0mkwargs\u001b[0m\u001b[0;34m)\u001b[0m\u001b[0;34m\u001b[0m\u001b[0;34m\u001b[0m\u001b[0m\n\u001b[0m\u001b[1;32m     11\u001b[0m     \u001b[0;32melif\u001b[0m \u001b[0misinstance\u001b[0m\u001b[0;34m(\u001b[0m\u001b[0mnet\u001b[0m\u001b[0;34m,\u001b[0m \u001b[0mDenseModel\u001b[0m\u001b[0;34m)\u001b[0m\u001b[0;34m:\u001b[0m\u001b[0;34m\u001b[0m\u001b[0;34m\u001b[0m\u001b[0m\n\u001b[1;32m     12\u001b[0m         \u001b[0mval\u001b[0m \u001b[0;34m=\u001b[0m \u001b[0mtrain_Dense\u001b[0m\u001b[0;34m(\u001b[0m\u001b[0;34m*\u001b[0m\u001b[0margs\u001b[0m\u001b[0;34m,\u001b[0m \u001b[0;34m**\u001b[0m\u001b[0mkwargs\u001b[0m\u001b[0;34m)\u001b[0m\u001b[0;34m\u001b[0m\u001b[0;34m\u001b[0m\u001b[0m\n",
      "\u001b[0;32m~/work/ML_QC/qcdenoise/qcdenoise/ml_utils.py\u001b[0m in \u001b[0;36mtrain_adjT\u001b[0;34m(net, dataloader, loss_func, scheduler, optimizer, dev_num, lr, weight_decay, num_epochs, step_log, test_epoch, save_epoch, path, test_func_args)\u001b[0m\n\u001b[1;32m    143\u001b[0m             \u001b[0;31m# train\u001b[0m\u001b[0;34m\u001b[0m\u001b[0;34m\u001b[0m\u001b[0;34m\u001b[0m\u001b[0m\n\u001b[1;32m    144\u001b[0m             \u001b[0mloss\u001b[0m\u001b[0;34m.\u001b[0m\u001b[0mbackward\u001b[0m\u001b[0;34m(\u001b[0m\u001b[0;34m)\u001b[0m\u001b[0;34m\u001b[0m\u001b[0;34m\u001b[0m\u001b[0m\n\u001b[0;32m--> 145\u001b[0;31m             \u001b[0moptimizer\u001b[0m\u001b[0;34m.\u001b[0m\u001b[0mstep\u001b[0m\u001b[0;34m(\u001b[0m\u001b[0;34m)\u001b[0m\u001b[0;34m\u001b[0m\u001b[0;34m\u001b[0m\u001b[0m\n\u001b[0m\u001b[1;32m    146\u001b[0m             \u001b[0;31m# print stats\u001b[0m\u001b[0;34m\u001b[0m\u001b[0;34m\u001b[0m\u001b[0;34m\u001b[0m\u001b[0m\n\u001b[1;32m    147\u001b[0m             \u001b[0mrunning_loss\u001b[0m \u001b[0;34m+=\u001b[0m \u001b[0mloss\u001b[0m\u001b[0;34m.\u001b[0m\u001b[0mitem\u001b[0m\u001b[0;34m(\u001b[0m\u001b[0;34m)\u001b[0m\u001b[0;34m\u001b[0m\u001b[0;34m\u001b[0m\u001b[0m\n",
      "\u001b[0;32m~/anaconda3/envs/mlqis/lib/python3.7/site-packages/torch/optim/lr_scheduler.py\u001b[0m in \u001b[0;36mwrapper\u001b[0;34m(*args, **kwargs)\u001b[0m\n\u001b[1;32m     34\u001b[0m             \u001b[0;32mdef\u001b[0m \u001b[0mwrapper\u001b[0m\u001b[0;34m(\u001b[0m\u001b[0;34m*\u001b[0m\u001b[0margs\u001b[0m\u001b[0;34m,\u001b[0m \u001b[0;34m**\u001b[0m\u001b[0mkwargs\u001b[0m\u001b[0;34m)\u001b[0m\u001b[0;34m:\u001b[0m\u001b[0;34m\u001b[0m\u001b[0;34m\u001b[0m\u001b[0m\n\u001b[1;32m     35\u001b[0m                 \u001b[0mopt\u001b[0m\u001b[0;34m.\u001b[0m\u001b[0m_step_count\u001b[0m \u001b[0;34m+=\u001b[0m \u001b[0;36m1\u001b[0m\u001b[0;34m\u001b[0m\u001b[0;34m\u001b[0m\u001b[0m\n\u001b[0;32m---> 36\u001b[0;31m                 \u001b[0;32mreturn\u001b[0m \u001b[0mfunc\u001b[0m\u001b[0;34m(\u001b[0m\u001b[0;34m*\u001b[0m\u001b[0margs\u001b[0m\u001b[0;34m,\u001b[0m \u001b[0;34m**\u001b[0m\u001b[0mkwargs\u001b[0m\u001b[0;34m)\u001b[0m\u001b[0;34m\u001b[0m\u001b[0;34m\u001b[0m\u001b[0m\n\u001b[0m\u001b[1;32m     37\u001b[0m             \u001b[0mwrapper\u001b[0m\u001b[0;34m.\u001b[0m\u001b[0m_with_counter\u001b[0m \u001b[0;34m=\u001b[0m \u001b[0;32mTrue\u001b[0m\u001b[0;34m\u001b[0m\u001b[0;34m\u001b[0m\u001b[0m\n\u001b[1;32m     38\u001b[0m             \u001b[0;32mreturn\u001b[0m \u001b[0mwrapper\u001b[0m\u001b[0;34m\u001b[0m\u001b[0;34m\u001b[0m\u001b[0m\n",
      "\u001b[0;32m~/anaconda3/envs/mlqis/lib/python3.7/site-packages/torch/optim/adam.py\u001b[0m in \u001b[0;36mstep\u001b[0;34m(self, closure)\u001b[0m\n\u001b[1;32m     92\u001b[0m                 \u001b[0;31m# Decay the first and second moment running average coefficient\u001b[0m\u001b[0;34m\u001b[0m\u001b[0;34m\u001b[0m\u001b[0;34m\u001b[0m\u001b[0m\n\u001b[1;32m     93\u001b[0m                 \u001b[0mexp_avg\u001b[0m\u001b[0;34m.\u001b[0m\u001b[0mmul_\u001b[0m\u001b[0;34m(\u001b[0m\u001b[0mbeta1\u001b[0m\u001b[0;34m)\u001b[0m\u001b[0;34m.\u001b[0m\u001b[0madd_\u001b[0m\u001b[0;34m(\u001b[0m\u001b[0;36m1\u001b[0m \u001b[0;34m-\u001b[0m \u001b[0mbeta1\u001b[0m\u001b[0;34m,\u001b[0m \u001b[0mgrad\u001b[0m\u001b[0;34m)\u001b[0m\u001b[0;34m\u001b[0m\u001b[0;34m\u001b[0m\u001b[0m\n\u001b[0;32m---> 94\u001b[0;31m                 \u001b[0mexp_avg_sq\u001b[0m\u001b[0;34m.\u001b[0m\u001b[0mmul_\u001b[0m\u001b[0;34m(\u001b[0m\u001b[0mbeta2\u001b[0m\u001b[0;34m)\u001b[0m\u001b[0;34m.\u001b[0m\u001b[0maddcmul_\u001b[0m\u001b[0;34m(\u001b[0m\u001b[0;36m1\u001b[0m \u001b[0;34m-\u001b[0m \u001b[0mbeta2\u001b[0m\u001b[0;34m,\u001b[0m \u001b[0mgrad\u001b[0m\u001b[0;34m,\u001b[0m \u001b[0mgrad\u001b[0m\u001b[0;34m)\u001b[0m\u001b[0;34m\u001b[0m\u001b[0;34m\u001b[0m\u001b[0m\n\u001b[0m\u001b[1;32m     95\u001b[0m                 \u001b[0;32mif\u001b[0m \u001b[0mamsgrad\u001b[0m\u001b[0;34m:\u001b[0m\u001b[0;34m\u001b[0m\u001b[0;34m\u001b[0m\u001b[0m\n\u001b[1;32m     96\u001b[0m                     \u001b[0;31m# Maintains the maximum of all 2nd moment running avg. till now\u001b[0m\u001b[0;34m\u001b[0m\u001b[0;34m\u001b[0m\u001b[0;34m\u001b[0m\u001b[0m\n",
      "\u001b[0;31mKeyboardInterrupt\u001b[0m: "
     ]
    }
   ],
   "source": [
    "model_path = os.path.join(data_path,'dense_model_0p1.pt')\n",
    "loss_func = kl\n",
    "scheduler, optimizer = exp_scheduler(net_dense, ilr=1e-3, lr_decay=0.95, weight_decay=2e-4)\n",
    "test_func_args = (net_dense, testloader, loss_func)\n",
    "dense_logs = train(net_dense, trainloader, loss_func, scheduler, optimizer, save_epoch=1,\n",
    "      step_log= 500, num_epochs=10, test_epoch=1, test_func_args=test_func_args, path=model_path)"
   ]
  },
  {
   "cell_type": "code",
   "execution_count": null,
   "metadata": {},
   "outputs": [],
   "source": [
    "logs = dense_logs\n",
    "fig, ax = plt.subplots()\n",
    "ax.plot(logs[\"step\"], logs[\"loss\"], label=\"Train\", marker='o', linestyle='dashed')\n",
    "ax.plot(logs[\"test_step\"], logs[\"test_loss\"], label=\"Test\", marker='^', linestyle='dashed')\n",
    "ax.set_xlabel(\"Iterations\", fontsize=14)\n",
    "ax.set_ylabel(\"Loss (KL Divergence)\", fontsize=14)\n",
    "ax.legend()\n",
    "fig.savefig(\"training_drp0p25_no2d_wd1em4_dense.png\", dpi=300)"
   ]
  },
  {
   "cell_type": "code",
   "execution_count": 37,
   "metadata": {},
   "outputs": [
    {
     "data": {
      "text/plain": [
       "[20.68298620402361,\n",
       " 20.424625894856632,\n",
       " 19.491018786988743,\n",
       " 19.73658208597982,\n",
       " 19.017424796746372,\n",
       " 18.59131188219901,\n",
       " 18.728970001400672,\n",
       " 18.228699598175794,\n",
       " 17.838651154959212,\n",
       " 18.052287233508526]"
      ]
     },
     "execution_count": 37,
     "metadata": {},
     "output_type": "execute_result"
    }
   ],
   "source": [
    "logs[\"test_loss\"][-10:]"
   ]
  },
  {
   "cell_type": "markdown",
   "metadata": {},
   "source": [
    "#### Residual Block "
   ]
  },
  {
   "cell_type": "code",
   "execution_count": 28,
   "metadata": {
    "collapsed": true,
    "jupyter": {
     "outputs_hidden": true
    }
   },
   "outputs": [
    {
     "name": "stdout",
     "output_type": "stream",
     "text": [
      "Test Data:\n",
      "Batches=1187, Average Loss= 77.716\n",
      "Epoch=1, Lr= 0.000900, Step=  250, Loss=71.933\n",
      "Epoch=1, Lr= 0.000900, Step=  500, Loss=68.886\n",
      "Epoch=1, Lr= 0.000900, Step=  750, Loss=66.906\n",
      "Epoch=1, Lr= 0.000900, Step= 1000, Loss=65.063\n",
      "Epoch=1, Lr= 0.000900, Step= 1250, Loss=63.726\n",
      "Epoch=1, Lr= 0.000900, Step= 1500, Loss=61.854\n",
      "Epoch=1, Lr= 0.000900, Step= 1750, Loss=61.208\n",
      "Epoch=1, Lr= 0.000900, Step= 2000, Loss=60.190\n",
      "Epoch=1, Lr= 0.000900, Step= 2250, Loss=59.037\n",
      "Epoch=1, Lr= 0.000900, Step= 2500, Loss=57.490\n",
      "Epoch=1, Lr= 0.000900, Step= 2750, Loss=56.426\n",
      "Epoch=1, Lr= 0.000900, Step= 3000, Loss=54.747\n",
      "Epoch=1, Lr= 0.000900, Step= 3250, Loss=54.283\n",
      "Epoch=1, Lr= 0.000900, Step= 3500, Loss=53.204\n",
      "Epoch=1, Lr= 0.000900, Step= 3750, Loss=52.335\n",
      "Epoch=1, Lr= 0.000900, Step= 4000, Loss=51.991\n",
      "Epoch=1, Lr= 0.000900, Step= 4250, Loss=51.012\n",
      "Epoch=1, Lr= 0.000900, Step= 4500, Loss=49.895\n",
      "Epoch=1, Lr= 0.000900, Step= 4750, Loss=49.719\n",
      "Epoch=1, Lr= 0.000900, Step= 5000, Loss=49.318\n",
      "Epoch=1, Lr= 0.000900, Step= 5250, Loss=48.435\n",
      "Epoch=1, Lr= 0.000900, Step= 5500, Loss=47.235\n",
      "Epoch=1, Lr= 0.000900, Step= 5750, Loss=46.424\n",
      "Epoch=1, Lr= 0.000900, Step= 6000, Loss=45.659\n",
      "Epoch=1, Lr= 0.000900, Step= 6250, Loss=44.778\n",
      "Epoch=1, Lr= 0.000900, Step= 6500, Loss=44.245\n",
      "Epoch=1, Lr= 0.000900, Step= 6750, Loss=43.049\n",
      "Epoch=1, Lr= 0.000900, Step= 7000, Loss=41.947\n",
      "Epoch=1, Lr= 0.000900, Step= 7250, Loss=41.191\n",
      "Epoch=1, Lr= 0.000900, Step= 7500, Loss=41.043\n",
      "Epoch=1, Lr= 0.000900, Step= 7750, Loss=39.899\n",
      "Epoch=1, Lr= 0.000900, Step= 8000, Loss=39.343\n",
      "Epoch=1, Lr= 0.000900, Step= 8250, Loss=38.308\n",
      "Epoch=1, Lr= 0.000900, Step= 8500, Loss=37.867\n",
      "Epoch=1, Lr= 0.000900, Step= 8750, Loss=37.258\n",
      "Epoch=1, Lr= 0.000900, Step= 9000, Loss=36.234\n",
      "Epoch=1, Lr= 0.000900, Step= 9250, Loss=36.463\n",
      "Epoch=1, Lr= 0.000900, Step= 9500, Loss=35.816\n",
      "Epoch=1, Lr= 0.000900, Step= 9750, Loss=34.916\n",
      "Epoch=1, Lr= 0.000900, Step=10000, Loss=33.830\n",
      "Epoch=1, Lr= 0.000900, Step=10250, Loss=33.322\n",
      "Epoch=1, Lr= 0.000900, Step=10500, Loss=32.673\n",
      "Epoch=1, Lr= 0.000900, Step=10750, Loss=32.272\n",
      "Epoch=1, Lr= 0.000900, Step=11000, Loss=32.144\n",
      "Epoch=1, Lr= 0.000900, Step=11250, Loss=31.529\n",
      "Epoch=1, Lr= 0.000900, Step=11500, Loss=31.186\n",
      "Epoch=1, Lr= 0.000900, Step=11750, Loss=31.215\n",
      "Epoch=1, Lr= 0.000900, Step=12000, Loss=31.264\n",
      "Epoch=1, Lr= 0.000900, Step=12250, Loss=30.944\n",
      "Epoch=1, Lr= 0.000900, Step=12500, Loss=30.784\n",
      "Epoch=1, Lr= 0.000900, Step=12750, Loss=30.878\n",
      "Epoch=1, Lr= 0.000900, Step=13000, Loss=30.770\n",
      "Epoch=1, Lr= 0.000900, Step=13250, Loss=30.268\n",
      "Epoch=1, Lr= 0.000900, Step=13500, Loss=30.296\n",
      "Epoch=1, Lr= 0.000900, Step=13750, Loss=30.208\n",
      "Epoch=1, Lr= 0.000900, Step=14000, Loss=30.109\n",
      "Epoch=1, Lr= 0.000900, Step=14250, Loss=29.826\n",
      "Epoch=1, Lr= 0.000900, Step=14500, Loss=29.246\n",
      "Epoch=1, Lr= 0.000900, Step=14750, Loss=29.595\n",
      "Epoch=1, Lr= 0.000900, Step=15000, Loss=29.010\n",
      "Epoch=1, Lr= 0.000900, Step=15250, Loss=28.735\n",
      "Epoch=1, Lr= 0.000900, Step=15500, Loss=29.095\n",
      "Epoch=1, Lr= 0.000900, Step=15750, Loss=28.844\n",
      "Epoch=1, Lr= 0.000900, Step=16000, Loss=28.386\n",
      "Epoch=1, Lr= 0.000900, Step=16250, Loss=28.412\n",
      "Epoch=1, Lr= 0.000900, Step=16500, Loss=28.124\n",
      "Epoch=1, Lr= 0.000900, Step=16750, Loss=28.207\n",
      "Epoch=1, Lr= 0.000900, Step=17000, Loss=28.027\n",
      "Epoch=1, Lr= 0.000900, Step=17250, Loss=28.231\n",
      "Epoch=1, Lr= 0.000900, Step=17500, Loss=27.700\n",
      "Epoch=1, Lr= 0.000900, Step=17750, Loss=27.435\n",
      "Test Data:\n",
      "Batches=1187, Average Loss= 32.248\n",
      "Epoch=2, Lr= 0.000810, Step=18000, Loss=27.656\n",
      "Epoch=2, Lr= 0.000810, Step=18250, Loss=26.833\n",
      "Epoch=2, Lr= 0.000810, Step=18500, Loss=26.906\n",
      "Epoch=2, Lr= 0.000810, Step=18750, Loss=26.852\n",
      "Epoch=2, Lr= 0.000810, Step=19000, Loss=26.782\n",
      "Epoch=2, Lr= 0.000810, Step=19250, Loss=27.047\n",
      "Epoch=2, Lr= 0.000810, Step=19500, Loss=26.728\n",
      "Epoch=2, Lr= 0.000810, Step=19750, Loss=26.511\n",
      "Epoch=2, Lr= 0.000810, Step=20000, Loss=26.288\n",
      "Epoch=2, Lr= 0.000810, Step=20250, Loss=26.029\n",
      "Epoch=2, Lr= 0.000810, Step=20500, Loss=26.766\n",
      "Epoch=2, Lr= 0.000810, Step=20750, Loss=26.496\n",
      "Epoch=2, Lr= 0.000810, Step=21000, Loss=26.153\n",
      "Epoch=2, Lr= 0.000810, Step=21250, Loss=26.470\n",
      "Epoch=2, Lr= 0.000810, Step=21500, Loss=26.358\n",
      "Epoch=2, Lr= 0.000810, Step=21750, Loss=25.733\n",
      "Epoch=2, Lr= 0.000810, Step=22000, Loss=25.563\n",
      "Epoch=2, Lr= 0.000810, Step=22250, Loss=25.897\n",
      "Epoch=2, Lr= 0.000810, Step=22500, Loss=25.818\n",
      "Epoch=2, Lr= 0.000810, Step=22750, Loss=25.528\n",
      "Epoch=2, Lr= 0.000810, Step=23000, Loss=25.556\n",
      "Epoch=2, Lr= 0.000810, Step=23250, Loss=25.655\n",
      "Epoch=2, Lr= 0.000810, Step=23500, Loss=25.394\n",
      "Epoch=2, Lr= 0.000810, Step=23750, Loss=25.152\n",
      "Epoch=2, Lr= 0.000810, Step=24000, Loss=25.558\n",
      "Epoch=2, Lr= 0.000810, Step=24250, Loss=25.208\n",
      "Epoch=2, Lr= 0.000810, Step=24500, Loss=25.229\n",
      "Epoch=2, Lr= 0.000810, Step=24750, Loss=25.292\n",
      "Epoch=2, Lr= 0.000810, Step=25000, Loss=24.919\n",
      "Epoch=2, Lr= 0.000810, Step=25250, Loss=25.273\n",
      "Epoch=2, Lr= 0.000810, Step=25500, Loss=25.043\n",
      "Epoch=2, Lr= 0.000810, Step=25750, Loss=24.800\n",
      "Epoch=2, Lr= 0.000810, Step=26000, Loss=24.875\n",
      "Epoch=2, Lr= 0.000810, Step=26250, Loss=24.833\n",
      "Epoch=2, Lr= 0.000810, Step=26500, Loss=24.832\n",
      "Epoch=2, Lr= 0.000810, Step=26750, Loss=24.648\n",
      "Epoch=2, Lr= 0.000810, Step=27000, Loss=24.144\n",
      "Epoch=2, Lr= 0.000810, Step=27250, Loss=24.120\n",
      "Epoch=2, Lr= 0.000810, Step=27500, Loss=23.849\n",
      "Epoch=2, Lr= 0.000810, Step=27750, Loss=23.835\n",
      "Epoch=2, Lr= 0.000810, Step=28000, Loss=23.886\n",
      "Epoch=2, Lr= 0.000810, Step=28250, Loss=23.481\n",
      "Epoch=2, Lr= 0.000810, Step=28500, Loss=23.577\n",
      "Epoch=2, Lr= 0.000810, Step=28750, Loss=23.941\n",
      "Epoch=2, Lr= 0.000810, Step=29000, Loss=23.842\n",
      "Epoch=2, Lr= 0.000810, Step=29250, Loss=23.591\n",
      "Epoch=2, Lr= 0.000810, Step=29500, Loss=23.238\n",
      "Epoch=2, Lr= 0.000810, Step=29750, Loss=23.729\n",
      "Epoch=2, Lr= 0.000810, Step=30000, Loss=23.398\n",
      "Epoch=2, Lr= 0.000810, Step=30250, Loss=23.344\n",
      "Epoch=2, Lr= 0.000810, Step=30500, Loss=23.675\n",
      "Epoch=2, Lr= 0.000810, Step=30750, Loss=23.399\n",
      "Epoch=2, Lr= 0.000810, Step=31000, Loss=23.169\n",
      "Epoch=2, Lr= 0.000810, Step=31250, Loss=23.480\n",
      "Epoch=2, Lr= 0.000810, Step=31500, Loss=23.405\n",
      "Epoch=2, Lr= 0.000810, Step=31750, Loss=23.375\n",
      "Epoch=2, Lr= 0.000810, Step=32000, Loss=23.408\n",
      "Epoch=2, Lr= 0.000810, Step=32250, Loss=23.354\n",
      "Epoch=2, Lr= 0.000810, Step=32500, Loss=22.616\n",
      "Epoch=2, Lr= 0.000810, Step=32750, Loss=23.208\n",
      "Epoch=2, Lr= 0.000810, Step=33000, Loss=23.080\n",
      "Epoch=2, Lr= 0.000810, Step=33250, Loss=23.126\n",
      "Epoch=2, Lr= 0.000810, Step=33500, Loss=23.077\n",
      "Epoch=2, Lr= 0.000810, Step=33750, Loss=23.218\n",
      "Epoch=2, Lr= 0.000810, Step=34000, Loss=22.661\n",
      "Epoch=2, Lr= 0.000810, Step=34250, Loss=22.478\n",
      "Epoch=2, Lr= 0.000810, Step=34500, Loss=22.636\n",
      "Epoch=2, Lr= 0.000810, Step=34750, Loss=22.938\n",
      "Epoch=2, Lr= 0.000810, Step=35000, Loss=23.117\n",
      "Epoch=2, Lr= 0.000810, Step=35250, Loss=22.522\n",
      "Epoch=2, Lr= 0.000810, Step=35500, Loss=22.671\n",
      "Test Data:\n",
      "Batches=1187, Average Loss= 27.777\n",
      "Epoch=3, Lr= 0.000729, Step=35750, Loss=21.953\n",
      "Epoch=3, Lr= 0.000729, Step=36000, Loss=22.317\n",
      "Epoch=3, Lr= 0.000729, Step=36250, Loss=22.198\n",
      "Epoch=3, Lr= 0.000729, Step=36500, Loss=22.548\n",
      "Epoch=3, Lr= 0.000729, Step=36750, Loss=22.176\n",
      "Epoch=3, Lr= 0.000729, Step=37000, Loss=22.461\n",
      "Epoch=3, Lr= 0.000729, Step=37250, Loss=21.961\n",
      "Epoch=3, Lr= 0.000729, Step=37500, Loss=22.430\n",
      "Epoch=3, Lr= 0.000729, Step=37750, Loss=22.304\n",
      "Epoch=3, Lr= 0.000729, Step=38000, Loss=22.515\n",
      "Epoch=3, Lr= 0.000729, Step=38250, Loss=22.192\n",
      "Epoch=3, Lr= 0.000729, Step=38500, Loss=22.531\n",
      "Epoch=3, Lr= 0.000729, Step=38750, Loss=22.318\n",
      "Epoch=3, Lr= 0.000729, Step=39000, Loss=22.077\n",
      "Epoch=3, Lr= 0.000729, Step=39250, Loss=21.935\n",
      "Epoch=3, Lr= 0.000729, Step=39500, Loss=21.990\n",
      "Epoch=3, Lr= 0.000729, Step=39750, Loss=22.033\n",
      "Epoch=3, Lr= 0.000729, Step=40000, Loss=22.039\n",
      "Epoch=3, Lr= 0.000729, Step=40250, Loss=22.113\n",
      "Epoch=3, Lr= 0.000729, Step=40500, Loss=21.779\n",
      "Epoch=3, Lr= 0.000729, Step=40750, Loss=21.834\n",
      "Epoch=3, Lr= 0.000729, Step=41000, Loss=21.955\n",
      "Epoch=3, Lr= 0.000729, Step=41250, Loss=22.114\n",
      "Epoch=3, Lr= 0.000729, Step=41500, Loss=21.872\n",
      "Epoch=3, Lr= 0.000729, Step=41750, Loss=21.774\n",
      "Epoch=3, Lr= 0.000729, Step=42000, Loss=21.711\n",
      "Epoch=3, Lr= 0.000729, Step=42250, Loss=21.699\n",
      "Epoch=3, Lr= 0.000729, Step=42500, Loss=22.150\n",
      "Epoch=3, Lr= 0.000729, Step=42750, Loss=21.800\n",
      "Epoch=3, Lr= 0.000729, Step=43000, Loss=21.539\n",
      "Epoch=3, Lr= 0.000729, Step=43250, Loss=21.414\n",
      "Epoch=3, Lr= 0.000729, Step=43500, Loss=21.764\n",
      "Epoch=3, Lr= 0.000729, Step=43750, Loss=21.692\n",
      "Epoch=3, Lr= 0.000729, Step=44000, Loss=21.472\n",
      "Epoch=3, Lr= 0.000729, Step=44250, Loss=21.346\n",
      "Epoch=3, Lr= 0.000729, Step=44500, Loss=21.449\n",
      "Epoch=3, Lr= 0.000729, Step=44750, Loss=21.581\n",
      "Epoch=3, Lr= 0.000729, Step=45000, Loss=21.658\n",
      "Epoch=3, Lr= 0.000729, Step=45250, Loss=21.445\n",
      "Epoch=3, Lr= 0.000729, Step=45500, Loss=21.606\n",
      "Epoch=3, Lr= 0.000729, Step=45750, Loss=20.907\n",
      "Epoch=3, Lr= 0.000729, Step=46000, Loss=21.138\n",
      "Epoch=3, Lr= 0.000729, Step=46250, Loss=21.344\n",
      "Epoch=3, Lr= 0.000729, Step=46500, Loss=20.973\n",
      "Epoch=3, Lr= 0.000729, Step=46750, Loss=20.974\n",
      "Epoch=3, Lr= 0.000729, Step=47000, Loss=21.028\n",
      "Epoch=3, Lr= 0.000729, Step=47250, Loss=20.907\n",
      "Epoch=3, Lr= 0.000729, Step=47500, Loss=20.979\n",
      "Epoch=3, Lr= 0.000729, Step=47750, Loss=20.766\n",
      "Epoch=3, Lr= 0.000729, Step=48000, Loss=20.916\n",
      "Epoch=3, Lr= 0.000729, Step=48250, Loss=20.829\n",
      "Epoch=3, Lr= 0.000729, Step=48500, Loss=20.651\n",
      "Epoch=3, Lr= 0.000729, Step=48750, Loss=20.621\n",
      "Epoch=3, Lr= 0.000729, Step=49000, Loss=20.250\n",
      "Epoch=3, Lr= 0.000729, Step=49250, Loss=20.477\n",
      "Epoch=3, Lr= 0.000729, Step=49500, Loss=20.286\n",
      "Epoch=3, Lr= 0.000729, Step=49750, Loss=20.353\n",
      "Epoch=3, Lr= 0.000729, Step=50000, Loss=20.569\n",
      "Epoch=3, Lr= 0.000729, Step=50250, Loss=20.553\n",
      "Epoch=3, Lr= 0.000729, Step=50500, Loss=20.284\n",
      "Epoch=3, Lr= 0.000729, Step=50750, Loss=20.425\n",
      "Epoch=3, Lr= 0.000729, Step=51000, Loss=20.744\n",
      "Epoch=3, Lr= 0.000729, Step=51250, Loss=20.641\n",
      "Epoch=3, Lr= 0.000729, Step=51500, Loss=20.417\n",
      "Epoch=3, Lr= 0.000729, Step=51750, Loss=20.099\n",
      "Epoch=3, Lr= 0.000729, Step=52000, Loss=20.427\n",
      "Epoch=3, Lr= 0.000729, Step=52250, Loss=20.420\n",
      "Epoch=3, Lr= 0.000729, Step=52500, Loss=19.877\n",
      "Epoch=3, Lr= 0.000729, Step=52750, Loss=20.467\n",
      "Epoch=3, Lr= 0.000729, Step=53000, Loss=20.499\n",
      "Epoch=3, Lr= 0.000729, Step=53250, Loss=20.304\n",
      "Test Data:\n",
      "Batches=1187, Average Loss= 23.760\n",
      "Epoch=4, Lr= 0.000656, Step=53500, Loss=20.352\n",
      "Epoch=4, Lr= 0.000656, Step=53750, Loss=20.187\n",
      "Epoch=4, Lr= 0.000656, Step=54000, Loss=20.094\n",
      "Epoch=4, Lr= 0.000656, Step=54250, Loss=20.462\n",
      "Epoch=4, Lr= 0.000656, Step=54500, Loss=19.784\n",
      "Epoch=4, Lr= 0.000656, Step=54750, Loss=20.244\n",
      "Epoch=4, Lr= 0.000656, Step=55000, Loss=20.014\n",
      "Epoch=4, Lr= 0.000656, Step=55250, Loss=19.694\n",
      "Epoch=4, Lr= 0.000656, Step=55500, Loss=20.069\n",
      "Epoch=4, Lr= 0.000656, Step=55750, Loss=20.023\n",
      "Epoch=4, Lr= 0.000656, Step=56000, Loss=19.724\n",
      "Epoch=4, Lr= 0.000656, Step=56250, Loss=19.802\n",
      "Epoch=4, Lr= 0.000656, Step=56500, Loss=19.992\n",
      "Epoch=4, Lr= 0.000656, Step=56750, Loss=19.283\n",
      "Epoch=4, Lr= 0.000656, Step=57000, Loss=19.956\n",
      "Epoch=4, Lr= 0.000656, Step=57250, Loss=19.757\n",
      "Epoch=4, Lr= 0.000656, Step=57500, Loss=20.431\n",
      "Epoch=4, Lr= 0.000656, Step=57750, Loss=19.950\n",
      "Epoch=4, Lr= 0.000656, Step=58000, Loss=19.653\n",
      "Epoch=4, Lr= 0.000656, Step=58250, Loss=19.682\n",
      "Epoch=4, Lr= 0.000656, Step=58500, Loss=20.207\n",
      "Epoch=4, Lr= 0.000656, Step=58750, Loss=19.968\n",
      "Epoch=4, Lr= 0.000656, Step=59000, Loss=19.672\n",
      "Epoch=4, Lr= 0.000656, Step=59250, Loss=19.753\n",
      "Epoch=4, Lr= 0.000656, Step=59500, Loss=19.744\n",
      "Epoch=4, Lr= 0.000656, Step=59750, Loss=19.526\n",
      "Epoch=4, Lr= 0.000656, Step=60000, Loss=19.514\n",
      "Epoch=4, Lr= 0.000656, Step=60250, Loss=19.181\n",
      "Epoch=4, Lr= 0.000656, Step=60500, Loss=19.838\n",
      "Epoch=4, Lr= 0.000656, Step=60750, Loss=20.090\n",
      "Epoch=4, Lr= 0.000656, Step=61000, Loss=19.895\n",
      "Epoch=4, Lr= 0.000656, Step=61250, Loss=19.677\n",
      "Epoch=4, Lr= 0.000656, Step=61500, Loss=19.259\n",
      "Epoch=4, Lr= 0.000656, Step=61750, Loss=19.179\n",
      "Epoch=4, Lr= 0.000656, Step=62000, Loss=18.967\n",
      "Epoch=4, Lr= 0.000656, Step=62250, Loss=19.425\n",
      "Epoch=4, Lr= 0.000656, Step=62500, Loss=19.116\n",
      "Epoch=4, Lr= 0.000656, Step=62750, Loss=19.348\n",
      "Epoch=4, Lr= 0.000656, Step=63000, Loss=19.119\n",
      "Epoch=4, Lr= 0.000656, Step=63250, Loss=19.343\n",
      "Epoch=4, Lr= 0.000656, Step=63500, Loss=19.497\n",
      "Epoch=4, Lr= 0.000656, Step=63750, Loss=19.162\n",
      "Epoch=4, Lr= 0.000656, Step=64000, Loss=19.147\n",
      "Epoch=4, Lr= 0.000656, Step=64250, Loss=18.698\n",
      "Epoch=4, Lr= 0.000656, Step=64500, Loss=19.334\n",
      "Epoch=4, Lr= 0.000656, Step=64750, Loss=19.159\n",
      "Epoch=4, Lr= 0.000656, Step=65000, Loss=19.154\n",
      "Epoch=4, Lr= 0.000656, Step=65250, Loss=18.768\n",
      "Epoch=4, Lr= 0.000656, Step=65500, Loss=19.198\n",
      "Epoch=4, Lr= 0.000656, Step=65750, Loss=18.990\n",
      "Epoch=4, Lr= 0.000656, Step=66000, Loss=18.907\n",
      "Epoch=4, Lr= 0.000656, Step=66250, Loss=19.056\n",
      "Epoch=4, Lr= 0.000656, Step=66500, Loss=18.726\n",
      "Epoch=4, Lr= 0.000656, Step=66750, Loss=19.021\n",
      "Epoch=4, Lr= 0.000656, Step=67000, Loss=18.946\n",
      "Epoch=4, Lr= 0.000656, Step=67250, Loss=18.675\n",
      "Epoch=4, Lr= 0.000656, Step=67500, Loss=18.513\n",
      "Epoch=4, Lr= 0.000656, Step=67750, Loss=18.426\n",
      "Epoch=4, Lr= 0.000656, Step=68000, Loss=18.703\n",
      "Epoch=4, Lr= 0.000656, Step=68250, Loss=18.755\n",
      "Epoch=4, Lr= 0.000656, Step=68500, Loss=18.887\n",
      "Epoch=4, Lr= 0.000656, Step=68750, Loss=18.125\n",
      "Epoch=4, Lr= 0.000656, Step=69000, Loss=18.640\n",
      "Epoch=4, Lr= 0.000656, Step=69250, Loss=18.666\n",
      "Epoch=4, Lr= 0.000656, Step=69500, Loss=18.156\n",
      "Epoch=4, Lr= 0.000656, Step=69750, Loss=17.846\n",
      "Epoch=4, Lr= 0.000656, Step=70000, Loss=18.621\n",
      "Epoch=4, Lr= 0.000656, Step=70250, Loss=18.047\n",
      "Epoch=4, Lr= 0.000656, Step=70500, Loss=18.782\n",
      "Epoch=4, Lr= 0.000656, Step=70750, Loss=18.645\n",
      "Epoch=4, Lr= 0.000656, Step=71000, Loss=18.031\n",
      "Test Data:\n",
      "Batches=1187, Average Loss= 21.870\n",
      "Epoch=5, Lr= 0.000590, Step=71250, Loss=18.084\n",
      "Epoch=5, Lr= 0.000590, Step=71500, Loss=18.505\n",
      "Epoch=5, Lr= 0.000590, Step=71750, Loss=18.500\n",
      "Epoch=5, Lr= 0.000590, Step=72000, Loss=18.362\n",
      "Epoch=5, Lr= 0.000590, Step=72250, Loss=17.931\n",
      "Epoch=5, Lr= 0.000590, Step=72500, Loss=18.068\n",
      "Epoch=5, Lr= 0.000590, Step=72750, Loss=18.243\n",
      "Epoch=5, Lr= 0.000590, Step=73000, Loss=18.263\n",
      "Epoch=5, Lr= 0.000590, Step=73250, Loss=18.415\n",
      "Epoch=5, Lr= 0.000590, Step=73500, Loss=18.221\n",
      "Epoch=5, Lr= 0.000590, Step=73750, Loss=18.423\n",
      "Epoch=5, Lr= 0.000590, Step=74000, Loss=18.548\n",
      "Epoch=5, Lr= 0.000590, Step=74250, Loss=18.158\n",
      "Epoch=5, Lr= 0.000590, Step=74500, Loss=18.149\n",
      "Epoch=5, Lr= 0.000590, Step=74750, Loss=17.828\n",
      "Epoch=5, Lr= 0.000590, Step=75000, Loss=18.001\n",
      "Epoch=5, Lr= 0.000590, Step=75250, Loss=18.338\n",
      "Epoch=5, Lr= 0.000590, Step=75500, Loss=17.777\n",
      "Epoch=5, Lr= 0.000590, Step=75750, Loss=18.402\n",
      "Epoch=5, Lr= 0.000590, Step=76000, Loss=18.229\n",
      "Epoch=5, Lr= 0.000590, Step=76250, Loss=18.583\n",
      "Epoch=5, Lr= 0.000590, Step=76500, Loss=18.175\n",
      "Epoch=5, Lr= 0.000590, Step=76750, Loss=18.155\n",
      "Epoch=5, Lr= 0.000590, Step=77000, Loss=18.024\n",
      "Epoch=5, Lr= 0.000590, Step=77250, Loss=17.819\n",
      "Epoch=5, Lr= 0.000590, Step=77500, Loss=18.307\n",
      "Epoch=5, Lr= 0.000590, Step=77750, Loss=17.822\n",
      "Epoch=5, Lr= 0.000590, Step=78000, Loss=17.948\n",
      "Epoch=5, Lr= 0.000590, Step=78250, Loss=18.157\n",
      "Epoch=5, Lr= 0.000590, Step=78500, Loss=17.945\n",
      "Epoch=5, Lr= 0.000590, Step=78750, Loss=18.210\n",
      "Epoch=5, Lr= 0.000590, Step=79000, Loss=17.987\n",
      "Epoch=5, Lr= 0.000590, Step=79250, Loss=18.048\n",
      "Epoch=5, Lr= 0.000590, Step=79500, Loss=17.885\n",
      "Epoch=5, Lr= 0.000590, Step=79750, Loss=18.013\n",
      "Epoch=5, Lr= 0.000590, Step=80000, Loss=17.686\n",
      "Epoch=5, Lr= 0.000590, Step=80250, Loss=18.156\n",
      "Epoch=5, Lr= 0.000590, Step=80500, Loss=17.943\n",
      "Epoch=5, Lr= 0.000590, Step=80750, Loss=17.589\n",
      "Epoch=5, Lr= 0.000590, Step=81000, Loss=17.882\n",
      "Epoch=5, Lr= 0.000590, Step=81250, Loss=17.965\n",
      "Epoch=5, Lr= 0.000590, Step=81500, Loss=18.002\n",
      "Epoch=5, Lr= 0.000590, Step=81750, Loss=17.895\n",
      "Epoch=5, Lr= 0.000590, Step=82000, Loss=17.953\n",
      "Epoch=5, Lr= 0.000590, Step=82250, Loss=17.815\n",
      "Epoch=5, Lr= 0.000590, Step=82500, Loss=17.748\n",
      "Epoch=5, Lr= 0.000590, Step=82750, Loss=17.306\n",
      "Epoch=5, Lr= 0.000590, Step=83000, Loss=17.799\n",
      "Epoch=5, Lr= 0.000590, Step=83250, Loss=17.852\n",
      "Epoch=5, Lr= 0.000590, Step=83500, Loss=18.056\n",
      "Epoch=5, Lr= 0.000590, Step=83750, Loss=17.542\n",
      "Epoch=5, Lr= 0.000590, Step=84000, Loss=17.846\n",
      "Epoch=5, Lr= 0.000590, Step=84250, Loss=17.805\n",
      "Epoch=5, Lr= 0.000590, Step=84500, Loss=17.585\n",
      "Epoch=5, Lr= 0.000590, Step=84750, Loss=17.056\n",
      "Epoch=5, Lr= 0.000590, Step=85000, Loss=17.466\n",
      "Epoch=5, Lr= 0.000590, Step=85250, Loss=17.835\n",
      "Epoch=5, Lr= 0.000590, Step=85500, Loss=17.662\n",
      "Epoch=5, Lr= 0.000590, Step=85750, Loss=17.565\n",
      "Epoch=5, Lr= 0.000590, Step=86000, Loss=17.264\n",
      "Epoch=5, Lr= 0.000590, Step=86250, Loss=17.628\n",
      "Epoch=5, Lr= 0.000590, Step=86500, Loss=17.341\n",
      "Epoch=5, Lr= 0.000590, Step=86750, Loss=17.503\n",
      "Epoch=5, Lr= 0.000590, Step=87000, Loss=17.362\n",
      "Epoch=5, Lr= 0.000590, Step=87250, Loss=17.542\n",
      "Epoch=5, Lr= 0.000590, Step=87500, Loss=17.335\n",
      "Epoch=5, Lr= 0.000590, Step=87750, Loss=17.566\n",
      "Epoch=5, Lr= 0.000590, Step=88000, Loss=17.434\n",
      "Epoch=5, Lr= 0.000590, Step=88250, Loss=17.550\n",
      "Epoch=5, Lr= 0.000590, Step=88500, Loss=16.869\n",
      "Epoch=5, Lr= 0.000590, Step=88750, Loss=17.282\n",
      "Epoch=5, Lr= 0.000590, Step=89000, Loss=17.545\n",
      "Test Data:\n",
      "Batches=1187, Average Loss= 20.909\n"
     ]
    }
   ],
   "source": [
    "model_path = os.path.join(data_path,'residual_model_0p1.pt')\n",
    "loss_func = kl\n",
    "scheduler, optimizer = exp_scheduler(net_res, ilr=1e-3, lr_decay=0.9, weight_decay=5e-4)\n",
    "test_func_args = (net_res, testloader, loss_func)\n",
    "res_logs = train(net_res, trainloader, loss_func, scheduler, optimizer, save_epoch=1, lr=1e-3, \n",
    "      step_log= 250, num_epochs=5, test_epoch=1, test_func_args=test_func_args, path=model_path)"
   ]
  },
  {
   "cell_type": "code",
   "execution_count": 29,
   "metadata": {},
   "outputs": [
    {
     "data": {
      "image/png": "[encoded data removed]",
      "text/plain": [
       "<Figure size 432x288 with 1 Axes>"
      ]
     },
     "metadata": {
      "needs_background": "light"
     },
     "output_type": "display_data"
    }
   ],
   "source": [
    "logs = res_logs\n",
    "fig, ax = plt.subplots()\n",
    "ax.plot(logs[\"step\"], logs[\"loss\"], label=\"Train\", marker='o', linestyle='dashed')\n",
    "ax.plot(logs[\"test_step\"], logs[\"test_loss\"], label=\"Test\", marker='^', linestyle='dashed')\n",
    "ax.set_xlabel(\"Iterations\", fontsize=14)\n",
    "ax.set_ylabel(\"Loss (KL Divergence)\", fontsize=14)\n",
    "ax.legend()\n",
    "fig.savefig(\"training_drp0p25_wd1em4_residual.png\", dpi=300)"
   ]
  },
  {
   "cell_type": "markdown",
   "metadata": {},
   "source": [
    "#### Load Trained Model from checkpoint"
   ]
  },
  {
   "cell_type": "code",
   "execution_count": 50,
   "metadata": {},
   "outputs": [
    {
     "data": {
      "text/plain": [
       "<All keys matched successfully>"
      ]
     },
     "execution_count": 50,
     "metadata": {},
     "output_type": "execute_result"
    }
   ],
   "source": [
    "model_path = 'data/GraphState_nqbits9_UnitaryNoise_032920/residual_model_0.0002_0.1.pt'\n",
    "net_res = AdjTAsymModel(inputs_dim=inputs_dim, targets_dim=targets_dim, encodings_dim=encodings_dim, \n",
    "                        combine_mode='Multiply', asym_mode='residual')\n",
    "net_res.load_state_dict(torch.load(model_path))\n",
    "\n",
    "model_path = 'data/GraphState_nqbits9_UnitaryNoise_032920/dense_model_0p1.pt'\n",
    "net_dense = AdjTAsymModel(inputs_dim=inputs_dim, targets_dim=targets_dim, encodings_dim=encodings_dim, \n",
    "                        combine_mode='Multiply', asym_mode='dense')\n",
    "net_dense.load_state_dict(torch.load(model_path))"
   ]
  },
  {
   "cell_type": "code",
   "execution_count": 62,
   "metadata": {},
   "outputs": [
    {
     "data": {
      "text/plain": [
       "0.21865625"
      ]
     },
     "execution_count": 62,
     "metadata": {},
     "output_type": "execute_result"
    }
   ],
   "source": [
    "13.994/64"
   ]
  },
  {
   "cell_type": "markdown",
   "metadata": {},
   "source": [
    "### Test"
   ]
  },
  {
   "cell_type": "code",
   "execution_count": 51,
   "metadata": {},
   "outputs": [
    {
     "name": "stdout",
     "output_type": "stream",
     "text": [
      "Batches=1187, Average Loss= 13.994\n",
      "Batches=1187, Average Loss= 15.395\n"
     ]
    }
   ],
   "source": [
    "test(net_res, testloader, kl)\n",
    "test(net_dense, testloader, kl)"
   ]
  },
  {
   "cell_type": "code",
   "execution_count": 67,
   "metadata": {},
   "outputs": [
    {
     "name": "stdout",
     "output_type": "stream",
     "text": [
      "sample=16585\n"
     ]
    },
    {
     "data": {
      "text/plain": [
       "<matplotlib.legend.Legend at 0x7f6935abb9b0>"
      ]
     },
     "execution_count": 67,
     "metadata": {},
     "output_type": "execute_result"
    },
    {
     "data": {
      "image/png": "[encoded data removed]",
      "text/plain": [
       "<Figure size 1008x432 with 2 Axes>"
      ]
     },
     "metadata": {
      "needs_background": "light"
     },
     "output_type": "display_data"
    }
   ],
   "source": [
    "idx = np.random.randint(0, len(testdata)-1)\n",
    "print('sample=%d'%idx)\n",
    "inputs, targets, encodings = testdata[idx]['input'], testdata[idx]['target'], testdata[idx]['encoding']\n",
    "with torch.no_grad():\n",
    "    inputs = torch.unsqueeze(inputs,0)\n",
    "    encodings = torch.unsqueeze(encodings, 0)\n",
    "    net = net_res.to('cpu')\n",
    "    net.eval()\n",
    "    outputs_res = net(inputs, encodings)\n",
    "    outputs_res = F.softmax(outputs_res)\n",
    "fig,axes = plt.subplots(1,2,figsize=(14,6), sharex=True, sharey=True)\n",
    "axes[0].bar(np.arange(inputs_dim), np.squeeze(outputs_res.numpy()), width=4, label='ML Ouput')\n",
    "axes[0].bar(np.arange(inputs_dim), np.squeeze(targets.numpy()), width=4, label='Target- Ideal Circuit', color='w', edgecolor='r', alpha=0.35)\n",
    "axes[1].bar(np.arange(inputs_dim), np.squeeze(outputs_res.numpy()), width=4, label='ML Ouput')\n",
    "axes[1].bar(np.arange(inputs_dim), np.squeeze(inputs.numpy()), width=4, label='Input- Unitary Noise', color='w', edgecolor='k', alpha=0.35)\n",
    "axes[0].set_title('Test Sample #%d AdjTAsym Model\\nTrained on 9-qubit Graph States w/ Phase-Amplitude Error.\\n'\\\n",
    "             'Tested: on different Graph States'%idx, fontsize=12)\n",
    "axes[1].set_title('Test Sample #%d AdjTAsym Model\\nAverage KL divergence per sample: 0.1 (In distribution), 0.2 (out of distribution) ' %idx, fontsize=12)\n",
    "axes[0].set_xlabel(\"Computational Basis ($2^N$ Possible Outcomes)\", fontsize=14)\n",
    "axes[0].set_ylabel(\"Probability\", fontsize=14)\n",
    "axes[0].legend()\n",
    "axes[1].legend()"
   ]
  },
  {
   "cell_type": "code",
   "execution_count": 68,
   "metadata": {},
   "outputs": [],
   "source": [
    "fig.savefig(\"graphstate_nqubits9_032920_unitarynoise_residual.png\", dpi=300)"
   ]
  },
  {
   "cell_type": "code",
   "execution_count": 60,
   "metadata": {},
   "outputs": [
    {
     "name": "stdout",
     "output_type": "stream",
     "text": [
      "sample=25382\n"
     ]
    },
    {
     "data": {
      "text/plain": [
       "<matplotlib.legend.Legend at 0x7f693d97c978>"
      ]
     },
     "execution_count": 60,
     "metadata": {},
     "output_type": "execute_result"
    },
    {
     "data": {
      "image/png": "[encoded data removed]",
      "text/plain": [
       "<Figure size 1008x432 with 2 Axes>"
      ]
     },
     "metadata": {
      "needs_background": "light"
     },
     "output_type": "display_data"
    }
   ],
   "source": [
    "idx = np.random.randint(0, len(testdata)-1)\n",
    "print('sample=%d'%idx)\n",
    "inputs, targets, encodings = testdata[idx]['input'], testdata[idx]['target'], testdata[idx]['encoding']\n",
    "with torch.no_grad():\n",
    "    inputs = torch.unsqueeze(inputs,0)\n",
    "    encodings = torch.unsqueeze(encodings, 0)\n",
    "    net = net_dense.to('cpu')\n",
    "    net.eval()\n",
    "    outputs_dense = net(inputs, encodings)\n",
    "    outputs_dense = F.softmax(outputs_dense)\n",
    "fig,axes = plt.subplots(1,2,figsize=(14,6), sharex=True, sharey=True)\n",
    "axes[0].bar(np.arange(inputs_dim), np.squeeze(outputs_dense.numpy()), width=4, label='ML Ouput- dense')\n",
    "axes[0].bar(np.arange(inputs_dim), np.squeeze(targets.numpy()), width=4, label='Target- Ideal Circuit', color='w', edgecolor='r', alpha=0.35)\n",
    "axes[1].bar(np.arange(inputs_dim), np.squeeze(outputs_dense.numpy()), width=4, label='ML Ouput- dense')\n",
    "axes[1].bar(np.arange(inputs_dim), np.squeeze(inputs.numpy()), width=4, label='Input- Unitary Noise', color='w', edgecolor='k', alpha=0.35)\n",
    "axes[0].set_title('Test Sample #%d AdjTAsym Model\\nTrained on 9-qubit Graph States w/ Phase-Amplitude Error.\\n'\\\n",
    "             'Tested: on different Graph States'%idx, fontsize=12)\n",
    "axes[1].set_title('Test Sample #%d AdjTAsym Model' %idx, fontsize=12)\n",
    "axes[0].set_xlabel(\"Computational Basis ($2^N$ Possible Outcomes)\", fontsize=14)\n",
    "axes[0].set_ylabel(\"Probability\", fontsize=14)\n",
    "axes[0].legend()\n",
    "axes[1].legend()"
   ]
  },
  {
   "cell_type": "code",
   "execution_count": null,
   "metadata": {},
   "outputs": [],
   "source": []
  }
 ],
 "metadata": {
  "kernelspec": {
   "display_name": "Python 3.7.3 64-bit ('mlqis': conda)",
   "language": "python",
   "name": "python37364bitmlqisconda86ecc3302e6b4d87855078804a8dffad"
  },
  "language_info": {
   "codemirror_mode": {
    "name": "ipython",
    "version": 3
   },
   "file_extension": ".py",
   "mimetype": "text/x-python",
   "name": "python",
   "nbconvert_exporter": "python",
   "pygments_lexer": "ipython3",
   "version": "3.7.3"
  }
 },
 "nbformat": 4,
 "nbformat_minor": 4
}
