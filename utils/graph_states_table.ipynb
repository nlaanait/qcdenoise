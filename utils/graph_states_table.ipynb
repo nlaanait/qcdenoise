{
 "cells": [
  {
   "cell_type": "code",
   "execution_count": 1,
   "metadata": {},
   "outputs": [],
   "source": [
    "import networkx as nx\n",
    "import matplotlib.pyplot as plt\n",
    "import warnings\n",
    "warnings.simplefilter(\"ignore\")\n"
   ]
  },
  {
   "cell_type": "markdown",
   "metadata": {},
   "source": [
    "#### Utils functions"
   ]
  },
  {
   "cell_type": "code",
   "execution_count": 2,
   "metadata": {},
   "outputs": [],
   "source": [
    "def test_graphbuild(graph_data, graph_number=1):\n",
    "    \"\"\"\n",
    "    Tests graph building from a graph_specs database by:\n",
    "    1. Building the graph\n",
    "    2. Printing nodes, neighbors and weight values\n",
    "    3. Plotting the built graph\n",
    "    if `graph_number` is None then all graphs in graph_data are built and tested\n",
    "    Parameters:  \n",
    "        graph_data (list(tuples)): graph_specs database\n",
    "        graph_number (int): graph number to build and test.  \n",
    "    Returns:\n",
    "        None\n",
    "    \"\"\"\n",
    "    plt.figure(figsize=(2,2))\n",
    "    for g_num, g_data in graph_data.items():\n",
    "        plt.clf()\n",
    "        cond = True\n",
    "        if graph_number is not None:\n",
    "            cond = g_num == str(graph_number)\n",
    "        if g_data and cond:\n",
    "            G = nx.DiGraph()\n",
    "            G.add_weighted_edges_from(g_data)\n",
    "            # print nodes and neighbors\n",
    "            for node, ngbrs in G.adjacency():\n",
    "                for ngbr, edge_attr in ngbrs.items():\n",
    "                    print(\"Node:{}, Neighbor:{}, Weight:{}\".format(node, ngbr, edge_attr[\"weight\"]))\n",
    "            # plot\n",
    "            options = {\n",
    "            'with_labels': True,\n",
    "            'node_color': 'red',\n",
    "            'node_size': 175,\n",
    "            'width': 2,\n",
    "            'font_weight':'bold',\n",
    "            'font_color': 'white',\n",
    "            }\n",
    "            nx.draw_circular(G, **options)\n",
    "            plt.title('No. %s' % g_num, loc='right')\n",
    "            plt.show()\n",
    "\n",
    "def build_graph_database(graph_data):\n",
    "    \"\"\"\n",
    "    Build graph database (dictionary of networkx.DiGraph) from graph_data dictionary.\n",
    "    \"\"\"\n",
    "    graph_db= dict([('%d' %d, {'G':None, 'V':None, 'LUclass':None, '2Color':None}) \n",
    "                          for d in range(1,len(graph_data.keys()) + 1)])\n",
    "    for (g_num, g_entry), (_, g_data) in zip(graph_db.items(), graph_data.items()):\n",
    "        if g_data:\n",
    "            G = nx.DiGraph()\n",
    "            G.add_weighted_edges_from(g_data)\n",
    "            g_entry['G'] = G\n",
    "            g_entry['V'] = len(G.nodes)\n",
    "    return graph_db\n",
    "        "
   ]
  },
  {
   "cell_type": "markdown",
   "metadata": {},
   "source": [
    "#### Population Dictionary of graph specs  \n",
    "The keys correspond to the graph numbers in Table V in arXiv:060296 (Hein et al.)"
   ]
  },
  {
   "cell_type": "code",
   "execution_count": 48,
   "metadata": {},
   "outputs": [],
   "source": [
    "# Dictionary of graph specs, the keys correspond to the graph numbers in Table V in arXiv:060296 (Hein et al.)\n",
    "graph_data = dict([('%d' %d, None) for d in range(1,46)])\n",
    "\n",
    "graph_data['1'] = [(1, 2, 1.0)] \n",
    "graph_data['2'] = [(1, 2, 1.0), (1, 3, 1.0)]\n",
    "graph_data['3'] = [(1, 2, 1.0), (1, 3, 1.0), (1, 4, 1.0)]\n",
    "graph_data['4'] = [(1, 2, 1.0), (2, 3, 1.0), (3, 4, 1.0)]\n",
    "graph_data['5'] = [(1, 2, 1.0), (1, 3, 1.0), (1, 4, 1.0), (1, 5, 1.0)]\n",
    "graph_data['6'] = [(1, 2, 1.0), (2, 3, 1.0), (2, 5, 1.0), (3, 4, 1.0)]\n",
    "graph_data['7'] = [(1, 2, 1.0), (2, 3, 1.0), (3, 4, 1.0), (4, 5, 1.0)]\n",
    "graph_data['8'] = [(1, 2, 1.0), (2, 3, 1.0), (3, 4, 1.0), (4, 5, 1.0), (5, 1, 1.0)]\n"
   ]
  },
  {
   "cell_type": "markdown",
   "metadata": {},
   "source": [
    "build and test a particular graph (or all of them)"
   ]
  },
  {
   "cell_type": "code",
   "execution_count": 50,
   "metadata": {},
   "outputs": [
    {
     "name": "stdout",
     "output_type": "stream",
     "text": [
      "Node:1, Neighbor:2, Weight:1.0\n",
      "Node:2, Neighbor:3, Weight:1.0\n",
      "Node:3, Neighbor:4, Weight:1.0\n"
     ]
    },
    {
     "data": {
      "image/png": "[encoded data removed]",
      "text/plain": [
       "<Figure size 144x144 with 1 Axes>"
      ]
     },
     "metadata": {},
     "output_type": "display_data"
    },
    {
     "data": {
      "text/plain": [
       "<Figure size 432x288 with 0 Axes>"
      ]
     },
     "metadata": {},
     "output_type": "display_data"
    }
   ],
   "source": [
    "test_graphbuild(graph_data, graph_number=4)"
   ]
  },
  {
   "cell_type": "markdown",
   "metadata": {},
   "source": [
    "Build and return a dictionary of graph objects"
   ]
  },
  {
   "cell_type": "code",
   "execution_count": 52,
   "metadata": {},
   "outputs": [
    {
     "data": {
      "text/plain": [
       "{'1': {'G': <networkx.classes.digraph.DiGraph at 0x7f626db8cb38>,\n",
       "  'V': 2,\n",
       "  'LUclass': None,\n",
       "  '2Color': None},\n",
       " '2': {'G': <networkx.classes.digraph.DiGraph at 0x7f626db8cba8>,\n",
       "  'V': 3,\n",
       "  'LUclass': None,\n",
       "  '2Color': None},\n",
       " '3': {'G': <networkx.classes.digraph.DiGraph at 0x7f626db8cc18>,\n",
       "  'V': 4,\n",
       "  'LUclass': None,\n",
       "  '2Color': None},\n",
       " '4': {'G': <networkx.classes.digraph.DiGraph at 0x7f626db8cc88>,\n",
       "  'V': 4,\n",
       "  'LUclass': None,\n",
       "  '2Color': None},\n",
       " '5': {'G': <networkx.classes.digraph.DiGraph at 0x7f626db8ccf8>,\n",
       "  'V': 5,\n",
       "  'LUclass': None,\n",
       "  '2Color': None},\n",
       " '6': {'G': <networkx.classes.digraph.DiGraph at 0x7f626db8cd68>,\n",
       "  'V': 5,\n",
       "  'LUclass': None,\n",
       "  '2Color': None},\n",
       " '7': {'G': <networkx.classes.digraph.DiGraph at 0x7f626db8cdd8>,\n",
       "  'V': 5,\n",
       "  'LUclass': None,\n",
       "  '2Color': None},\n",
       " '8': {'G': <networkx.classes.digraph.DiGraph at 0x7f626db8ce48>,\n",
       "  'V': 5,\n",
       "  'LUclass': None,\n",
       "  '2Color': None},\n",
       " '9': {'G': None, 'V': None, 'LUclass': None, '2Color': None},\n",
       " '10': {'G': None, 'V': None, 'LUclass': None, '2Color': None},\n",
       " '11': {'G': None, 'V': None, 'LUclass': None, '2Color': None},\n",
       " '12': {'G': None, 'V': None, 'LUclass': None, '2Color': None},\n",
       " '13': {'G': None, 'V': None, 'LUclass': None, '2Color': None},\n",
       " '14': {'G': None, 'V': None, 'LUclass': None, '2Color': None},\n",
       " '15': {'G': None, 'V': None, 'LUclass': None, '2Color': None},\n",
       " '16': {'G': None, 'V': None, 'LUclass': None, '2Color': None},\n",
       " '17': {'G': None, 'V': None, 'LUclass': None, '2Color': None},\n",
       " '18': {'G': None, 'V': None, 'LUclass': None, '2Color': None},\n",
       " '19': {'G': None, 'V': None, 'LUclass': None, '2Color': None},\n",
       " '20': {'G': None, 'V': None, 'LUclass': None, '2Color': None},\n",
       " '21': {'G': None, 'V': None, 'LUclass': None, '2Color': None},\n",
       " '22': {'G': None, 'V': None, 'LUclass': None, '2Color': None},\n",
       " '23': {'G': None, 'V': None, 'LUclass': None, '2Color': None},\n",
       " '24': {'G': None, 'V': None, 'LUclass': None, '2Color': None},\n",
       " '25': {'G': None, 'V': None, 'LUclass': None, '2Color': None},\n",
       " '26': {'G': None, 'V': None, 'LUclass': None, '2Color': None},\n",
       " '27': {'G': None, 'V': None, 'LUclass': None, '2Color': None},\n",
       " '28': {'G': None, 'V': None, 'LUclass': None, '2Color': None},\n",
       " '29': {'G': None, 'V': None, 'LUclass': None, '2Color': None},\n",
       " '30': {'G': None, 'V': None, 'LUclass': None, '2Color': None},\n",
       " '31': {'G': None, 'V': None, 'LUclass': None, '2Color': None},\n",
       " '32': {'G': None, 'V': None, 'LUclass': None, '2Color': None},\n",
       " '33': {'G': None, 'V': None, 'LUclass': None, '2Color': None},\n",
       " '34': {'G': None, 'V': None, 'LUclass': None, '2Color': None},\n",
       " '35': {'G': None, 'V': None, 'LUclass': None, '2Color': None},\n",
       " '36': {'G': None, 'V': None, 'LUclass': None, '2Color': None},\n",
       " '37': {'G': None, 'V': None, 'LUclass': None, '2Color': None},\n",
       " '38': {'G': None, 'V': None, 'LUclass': None, '2Color': None},\n",
       " '39': {'G': None, 'V': None, 'LUclass': None, '2Color': None},\n",
       " '40': {'G': None, 'V': None, 'LUclass': None, '2Color': None},\n",
       " '41': {'G': None, 'V': None, 'LUclass': None, '2Color': None},\n",
       " '42': {'G': None, 'V': None, 'LUclass': None, '2Color': None},\n",
       " '43': {'G': None, 'V': None, 'LUclass': None, '2Color': None},\n",
       " '44': {'G': None, 'V': None, 'LUclass': None, '2Color': None},\n",
       " '45': {'G': None, 'V': None, 'LUclass': None, '2Color': None}}"
      ]
     },
     "execution_count": 52,
     "metadata": {},
     "output_type": "execute_result"
    }
   ],
   "source": [
    "build_graph_database(graph_data)"
   ]
  },
  {
   "cell_type": "code",
   "execution_count": null,
   "metadata": {},
   "outputs": [],
   "source": []
  }
 ],
 "metadata": {
  "kernelspec": {
   "display_name": "Python 3",
   "language": "python",
   "name": "python3"
  },
  "language_info": {
   "codemirror_mode": {
    "name": "ipython",
    "version": 3
   },
   "file_extension": ".py",
   "mimetype": "text/x-python",
   "name": "python",
   "nbconvert_exporter": "python",
   "pygments_lexer": "ipython3",
   "version": "3.7.3"
  }
 },
 "nbformat": 4,
 "nbformat_minor": 4
}
