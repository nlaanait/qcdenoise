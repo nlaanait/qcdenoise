{
 "cells": [
  {
   "cell_type": "code",
   "execution_count": 1,
   "metadata": {},
   "outputs": [],
   "source": [
    "import networkx as nx\n",
    "import matplotlib.pyplot as plt\n",
    "import warnings\n",
    "import qiskit\n",
    "warnings.simplefilter(\"ignore\")\n"
   ]
  },
  {
   "cell_type": "markdown",
   "metadata": {},
   "source": [
    "#### Utils functions"
   ]
  },
  {
   "cell_type": "code",
   "execution_count": 13,
   "metadata": {},
   "outputs": [],
   "source": [
    "def test_graphbuild(graph_data, graph_number=1):\n",
    "    \"\"\"\n",
    "    Tests graph building from a graph_specs database by:\n",
    "    1. Building the graph\n",
    "    2. Printing nodes, neighbors and weight values\n",
    "    3. Plotting the built graph\n",
    "    if `graph_number` is None then all graphs in graph_data are built and tested\n",
    "    Parameters:  \n",
    "        graph_data (list(tuples)): graph_specs database\n",
    "        graph_number (int): graph number to build and test.  \n",
    "    Returns:\n",
    "        None\n",
    "    \"\"\"\n",
    "    plt.figure(figsize=(2,2))\n",
    "    for g_num, g_data in graph_data.items():\n",
    "        plt.clf()\n",
    "        cond = True\n",
    "        if graph_number is not None:\n",
    "            cond = g_num == str(graph_number)\n",
    "        if g_data and cond:\n",
    "            G = nx.DiGraph()\n",
    "            G.add_weighted_edges_from(g_data)\n",
    "            # print nodes and neighbors\n",
    "            for node, ngbrs in G.adjacency():\n",
    "                for ngbr, edge_attr in ngbrs.items():\n",
    "                    print(\"Node:{}, Neighbor:{}, Weight:{}\".format(node, ngbr, edge_attr[\"weight\"]))\n",
    "            # plot\n",
    "            options = {\n",
    "            'with_labels': True,\n",
    "            'node_color': 'red',\n",
    "            'node_size': 175,\n",
    "            'width': 2,\n",
    "            'font_weight':'bold',\n",
    "            'font_color': 'white',\n",
    "            }\n",
    "            nx.draw_circular(G, **options)\n",
    "            plt.title('No. %s' % g_num, loc='right')\n",
    "            plt.show()\n",
    "\n",
    "def build_graph_database(graph_data):\n",
    "    \"\"\"\n",
    "    Build graph database (dictionary of networkx.DiGraph) from graph_data dictionary.\n",
    "    \"\"\"\n",
    "    graph_db= dict([('%d' %d, {'G':None, 'V':None, 'LUclass':None, '2Color':None}) \n",
    "                          for d in range(1,len(graph_data.keys()) + 1)])\n",
    "    for (g_num, g_entry), (_, g_data) in zip(graph_db.items(), graph_data.items()):\n",
    "        if g_data:\n",
    "            G = nx.DiGraph()\n",
    "            G.add_weighted_edges_from(g_data)\n",
    "            g_entry['G'] = G\n",
    "            g_entry['V'] = len(G.nodes)\n",
    "    return graph_db\n",
    "        \n",
    "    \n",
    "def _build_from_graph(graph, gate_type=\"controlled_phase_gate\", verbose=True, state_vec=True):\n",
    "    \"\"\"\n",
    "    Builds a circuit from a graph by applying a 2-qubit gate between a node (qubit) and its neighbors (qubits)\n",
    "    Parameters:\n",
    "        graph (networks.DiGraph): graph object\n",
    "        gate_type (string): type of gate to apply. if gate_type=\"controlled_phase_gate\" then applies H_a-CNOT_{a,b}-H_a where a,b are qubits\n",
    "    \"\"\"\n",
    "    \n",
    "    n_qubits = len(graph.nodes)\n",
    "    q_reg = qiskit.QuantumRegister(n_qubits)\n",
    "    c_reg = qiskit.ClassicalRegister(n_qubits)\n",
    "    circ = qiskit.QuantumCircuit(q_reg, c_reg)\n",
    "    for node, ngbrs in graph.adjacency():\n",
    "        for ngbr, edge_attr in ngbrs.items():\n",
    "            if gate_type == \"controlled_phase_gate\":\n",
    "                circ.h(node-1)\n",
    "                circ.cx(node-1, ngbr-1)\n",
    "                circ.h(node-1)\n",
    "                print(\"Adding {} between Node:{} and Neighbor:{}\".format(gate_type, node, ngbr)) \n",
    "            else:\n",
    "                pass\n",
    "    if state_vec:\n",
    "        return circ\n",
    "    circ.measure(q_reg, c_reg)\n",
    "    return circ"
   ]
  },
  {
   "cell_type": "markdown",
   "metadata": {},
   "source": [
    "### Populate a Dictionary of graph specs  \n",
    "The keys correspond to the graph numbers in Table V in arXiv:060296 (Hein et al.)"
   ]
  },
  {
   "cell_type": "code",
   "execution_count": 56,
   "metadata": {},
   "outputs": [],
   "source": [
    "# Dictionary of graph specs, the keys correspond to the graph numbers in Table V in arXiv:060296 (Hein et al.)\n",
    "graph_data = dict([('%d' %d, None) for d in range(1,46)])\n",
    "\n",
    "graph_data['1'] = [(1, 2, 1.0)] \n",
    "graph_data['2'] = [(1, 2, 1.0), (1, 3, 1.0)]\n",
    "graph_data['3'] = [(1, 2, 1.0), (1, 3, 1.0), (1, 4, 1.0)]\n",
    "graph_data['4'] = [(1, 2, 1.0), (2, 3, 1.0), (3, 4, 1.0)]\n",
    "graph_data['5'] = [(1, 2, 1.0), (1, 3, 1.0), (1, 4, 1.0), (1, 5, 1.0)]\n",
    "graph_data['6'] = [(1, 2, 1.0), (2, 3, 1.0), (2, 5, 1.0), (3, 4, 1.0)]\n",
    "graph_data['7'] = [(1, 2, 1.0), (2, 3, 1.0), (3, 4, 1.0), (4, 5, 1.0)]\n",
    "graph_data['8'] = [(1, 2, 1.0), (2, 3, 1.0), (3, 4, 1.0), (4, 5, 1.0), (5, 1, 1.0)]\n",
    "graph_data['9'] = [(1, 2, 1.0), (1, 3, 1.0), (1, 4, 1.0), (1, 5, 1.0), (1, 6, 1.0)]\n",
    "graph_data['10'] = [(1, 6, 1.0), (2, 6, 1.0), (3, 6, 1.0), (4, 5, 1.0), (5, 6, 1.0)]\n",
    "graph_data['11'] = [(1, 6, 1.0), (2, 6, 1.0), (3, 5, 1.0), (4, 5, 1.0), (5, 6, 1.0)]\n",
    "graph_data['12'] = [(1, 2, 1.0), (2, 3, 1.0), (3, 4, 1.0), (4, 5, 1.0), (6, 2, 1.0)]"
   ]
  },
  {
   "cell_type": "markdown",
   "metadata": {},
   "source": [
    "### Build and test a particular graph (or all of them)"
   ]
  },
  {
   "cell_type": "code",
   "execution_count": 57,
   "metadata": {},
   "outputs": [
    {
     "name": "stdout",
     "output_type": "stream",
     "text": [
      "Node:1, Neighbor:2, Weight:1.0\n",
      "Node:2, Neighbor:3, Weight:1.0\n",
      "Node:3, Neighbor:4, Weight:1.0\n",
      "Node:4, Neighbor:5, Weight:1.0\n",
      "Node:6, Neighbor:2, Weight:1.0\n"
     ]
    },
    {
     "data": {
      "image/png": "[encoded data removed]",
      "text/plain": [
       "<Figure size 144x144 with 1 Axes>"
      ]
     },
     "metadata": {},
     "output_type": "display_data"
    },
    {
     "data": {
      "text/plain": [
       "<Figure size 432x288 with 0 Axes>"
      ]
     },
     "metadata": {},
     "output_type": "display_data"
    }
   ],
   "source": [
    "test_graphbuild(graph_data, graph_number=12)"
   ]
  },
  {
   "cell_type": "markdown",
   "metadata": {},
   "source": [
    "Build and return a dictionary of graph objects"
   ]
  },
  {
   "cell_type": "code",
   "execution_count": 58,
   "metadata": {},
   "outputs": [],
   "source": [
    "graph_db = build_graph_database(graph_data)"
   ]
  },
  {
   "cell_type": "markdown",
   "metadata": {},
   "source": [
    "### Build circuit from a graph"
   ]
  },
  {
   "cell_type": "code",
   "execution_count": 18,
   "metadata": {},
   "outputs": [
    {
     "name": "stdout",
     "output_type": "stream",
     "text": [
      "Adding controlled_phase_gate between Node:1 and Neighbor:2\n",
      "Adding controlled_phase_gate between Node:2 and Neighbor:3\n",
      "Adding controlled_phase_gate between Node:3 and Neighbor:4\n",
      "Adding controlled_phase_gate between Node:4 and Neighbor:5\n",
      "Adding controlled_phase_gate between Node:5 and Neighbor:1\n"
     ]
    }
   ],
   "source": [
    "graph = graph_db['8']['G']\n",
    "circ = _build_from_graph(graph,state_vec=False)"
   ]
  },
  {
   "cell_type": "code",
   "execution_count": 19,
   "metadata": {},
   "outputs": [
    {
     "data": {
      "image/png": "[encoded data removed]",
      "text/plain": [
       "<Figure size 1130.56x385.28 with 1 Axes>"
      ]
     },
     "execution_count": 19,
     "metadata": {},
     "output_type": "execute_result"
    }
   ],
   "source": [
    "circ.draw()"
   ]
  },
  {
   "cell_type": "markdown",
   "metadata": {},
   "source": [
    "## Random Disjoint Union of Graphs"
   ]
  },
  {
   "cell_type": "code",
   "execution_count": 188,
   "metadata": {},
   "outputs": [],
   "source": [
    "def random_combine_subgraphs(graph_db, target_qubits=4):\n",
    "    combs = list(set(partition(target_qubits)))\n",
    "    sorted_dict = get_sorted_db(graph_db)\n",
    "    graphs=[]\n",
    "    for comb in combs:\n",
    "        print('comb', comb)\n",
    "        sub_graphs = []\n",
    "        comb = list(comb)\n",
    "        if len(comb) > 1:\n",
    "            idx = 0\n",
    "            while idx < len(comb):\n",
    "                all_graphs = sorted_dict[comb[idx]]\n",
    "                if len(all_graphs) < 1:\n",
    "                    break\n",
    "                graph_idx = random.randint(0, len(all_graphs)-1)\n",
    "                sub_graphs.append(all_graphs[graph_idx])\n",
    "                idx += 1\n",
    "            print('comb={}, subgraphs={}'.format(comb, sub_graphs))\n",
    "        else:\n",
    "            all_graphs = sorted_dict[comb[0]]\n",
    "            if len(all_graphs) > 0:\n",
    "                graph_idx = random.randint(0, len(all_graphs)-1)\n",
    "                sub_graphs.append(all_graphs[graph_idx])\n",
    "                print('comb={}, subgraphs={}'.format(comb, sub_graphs))\n",
    "        graphs.append(sub_graphs)\n",
    "    idx = random.randint(0, len(graphs)-1)\n",
    "    sub_graphs = graphs[idx]\n",
    "    union_graph = nx.DiGraph()\n",
    "    for sub_g in sub_graphs:\n",
    "        union_graph = nx.disjoint_union(union_graph, sub_g)\n",
    "    return union_graph\n",
    "        \n",
    "            \n",
    "\n",
    "def get_sorted_db(gaph_db):\n",
    "    sorted_dict = dict([(i, []) for i in range(1,len(graph_db.keys()))])\n",
    "    for key, itm in graph_db.items():\n",
    "        if itm[\"G\"] is not None:\n",
    "            sorted_key = len(itm[\"G\"].nodes)\n",
    "            sorted_dict[sorted_key].append(itm[\"G\"])\n",
    "    return sorted_dict\n",
    "     \n",
    "    \n",
    "def partition(n, I=2):\n",
    "    yield(n,)\n",
    "    for i in range(I, n//2 + 1):\n",
    "        for p in partition(n-i, i):\n",
    "             yield (i,) + p"
   ]
  },
  {
   "cell_type": "code",
   "execution_count": 191,
   "metadata": {},
   "outputs": [
    {
     "name": "stdout",
     "output_type": "stream",
     "text": [
      "comb (2, 6)\n",
      "comb=[2, 6], subgraphs=[<networkx.classes.digraph.DiGraph object at 0x7fb15af68ac8>, <networkx.classes.digraph.DiGraph object at 0x7fb15af682b0>]\n",
      "comb (2, 2, 2, 2)\n",
      "comb=[2, 2, 2, 2], subgraphs=[<networkx.classes.digraph.DiGraph object at 0x7fb15af68ac8>, <networkx.classes.digraph.DiGraph object at 0x7fb15af68ac8>, <networkx.classes.digraph.DiGraph object at 0x7fb15af68ac8>, <networkx.classes.digraph.DiGraph object at 0x7fb15af68ac8>]\n",
      "comb (2, 2, 4)\n",
      "comb=[2, 2, 4], subgraphs=[<networkx.classes.digraph.DiGraph object at 0x7fb15af68ac8>, <networkx.classes.digraph.DiGraph object at 0x7fb15af68ac8>, <networkx.classes.digraph.DiGraph object at 0x7fb15af68e80>]\n",
      "comb (8,)\n",
      "comb (2, 3, 3)\n",
      "comb=[2, 3, 3], subgraphs=[<networkx.classes.digraph.DiGraph object at 0x7fb15af68ac8>, <networkx.classes.digraph.DiGraph object at 0x7fb15af689b0>, <networkx.classes.digraph.DiGraph object at 0x7fb15af689b0>]\n",
      "comb (4, 4)\n",
      "comb=[4, 4], subgraphs=[<networkx.classes.digraph.DiGraph object at 0x7fb15af68f28>, <networkx.classes.digraph.DiGraph object at 0x7fb15af68f28>]\n",
      "comb (3, 5)\n",
      "comb=[3, 5], subgraphs=[<networkx.classes.digraph.DiGraph object at 0x7fb15af689b0>, <networkx.classes.digraph.DiGraph object at 0x7fb15af68be0>]\n"
     ]
    },
    {
     "data": {
      "image/png": "[encoded data removed]",
      "text/plain": [
       "<Figure size 432x288 with 1 Axes>"
      ]
     },
     "metadata": {},
     "output_type": "display_data"
    }
   ],
   "source": [
    "g  = random_combine_subgraphs(graph_db, target_qubits=8)\n",
    "options = {\n",
    "            'with_labels': True,\n",
    "            'node_color': 'red',\n",
    "            'node_size': 175,\n",
    "            'width': 2,\n",
    "            'font_weight':'bold',\n",
    "            'font_color': 'white',\n",
    "            }\n",
    "nx.draw_circular(g, **options)"
   ]
  },
  {
   "cell_type": "code",
   "execution_count": null,
   "metadata": {},
   "outputs": [],
   "source": []
  }
 ],
 "metadata": {
  "kernelspec": {
   "display_name": "Python 3",
   "language": "python",
   "name": "python3"
  },
  "language_info": {
   "codemirror_mode": {
    "name": "ipython",
    "version": 3
   },
   "file_extension": ".py",
   "mimetype": "text/x-python",
   "name": "python",
   "nbconvert_exporter": "python",
   "pygments_lexer": "ipython3",
   "version": "3.7.3"
  }
 },
 "nbformat": 4,
 "nbformat_minor": 4
}
